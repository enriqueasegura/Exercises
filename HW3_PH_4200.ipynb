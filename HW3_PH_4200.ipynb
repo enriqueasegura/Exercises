{
  "nbformat": 4,
  "nbformat_minor": 0,
  "metadata": {
    "colab": {
      "name": "HW3 PH 4200.ipynb",
      "provenance": [],
      "collapsed_sections": [],
      "authorship_tag": "ABX9TyPm83pAU0VmNN5TR9O+pZGI",
      "include_colab_link": true
    },
    "kernelspec": {
      "name": "python3",
      "display_name": "Python 3"
    }
  },
  "cells": [
    {
      "cell_type": "markdown",
      "metadata": {
        "id": "view-in-github",
        "colab_type": "text"
      },
      "source": [
        "<a href=\"https://colab.research.google.com/github/enriqueasegura/Exercises/blob/master/HW3_PH_4200.ipynb\" target=\"_parent\"><img src=\"https://colab.research.google.com/assets/colab-badge.svg\" alt=\"Open In Colab\"/></a>"
      ]
    },
    {
      "cell_type": "code",
      "metadata": {
        "id": "Iau9MRz2M3TS",
        "colab_type": "code",
        "colab": {}
      },
      "source": [
        "import numpy as np   #matrix/array\n",
        "import pandas as pd  #Data analysis\n",
        "import matplotlib.pyplot as plt\n",
        "%matplotlib inline\n",
        "from sklearn import datasets"
      ],
      "execution_count": 0,
      "outputs": []
    },
    {
      "cell_type": "markdown",
      "metadata": {
        "id": "zKNFH08xOv7J",
        "colab_type": "text"
      },
      "source": [
        "1. Construct a pandas series, ser1, whose values are 0.0, 0.5, 1.0, 1.5, …, 12.5 and whose index consists of the English alphabet a to z.\n",
        "2. Construct ser2 with ten values which are random integers between 1 and 4 (included) and where the index is one, two, three, …, ten (words, not digits).\n",
        "3. Construct series ser3 which consists of the part of ser2 where the values are greater than 2.\n",
        "4. Construct series ser4 whose values are the exponential of the values in ser3.\n"
      ]
    },
    {
      "cell_type": "code",
      "metadata": {
        "id": "6u0FfqDqNfBX",
        "colab_type": "code",
        "outputId": "2d8da927-603e-466a-9d6f-7ae5c786e9f3",
        "colab": {
          "base_uri": "https://localhost:8080/",
          "height": 493
        }
      },
      "source": [
        "import string\n",
        "\n",
        "s_alphabet = string.ascii_lowercase\n",
        "s_alphabet_list = list(s_alphabet)\n",
        "# From a list\n",
        "\n",
        "num_l = np.arange(0,13,.5)\n",
        "\n",
        "ser1 = pd.Series(num_l, index=s_alphabet_list)\n",
        "print('This is ser1: ')\n",
        "ser1"
      ],
      "execution_count": 0,
      "outputs": [
        {
          "output_type": "stream",
          "text": [
            "This is ser1: \n"
          ],
          "name": "stdout"
        },
        {
          "output_type": "execute_result",
          "data": {
            "text/plain": [
              "a     0.0\n",
              "b     0.5\n",
              "c     1.0\n",
              "d     1.5\n",
              "e     2.0\n",
              "f     2.5\n",
              "g     3.0\n",
              "h     3.5\n",
              "i     4.0\n",
              "j     4.5\n",
              "k     5.0\n",
              "l     5.5\n",
              "m     6.0\n",
              "n     6.5\n",
              "o     7.0\n",
              "p     7.5\n",
              "q     8.0\n",
              "r     8.5\n",
              "s     9.0\n",
              "t     9.5\n",
              "u    10.0\n",
              "v    10.5\n",
              "w    11.0\n",
              "x    11.5\n",
              "y    12.0\n",
              "z    12.5\n",
              "dtype: float64"
            ]
          },
          "metadata": {
            "tags": []
          },
          "execution_count": 16
        }
      ]
    },
    {
      "cell_type": "code",
      "metadata": {
        "id": "y5z_OzHiO5jg",
        "colab_type": "code",
        "outputId": "18d0f241-7328-4443-cb90-d449acebad47",
        "colab": {
          "base_uri": "https://localhost:8080/",
          "height": 238
        }
      },
      "source": [
        "rnd_num_l = [np.random.randint(1,4+1) for num in range(0,10)]\n",
        "print('list of random numbers: ', rnd_num_l)\n",
        "\n",
        "num_str_list = [\"zero\", \"one\", \"two\", \"there\", \"four\", \"five\", \"six\", \"seven\", \"eight\", \"nine\"]\n",
        "\n",
        "print('Here it is ser2:')\n",
        "ser2=pd.Series(rnd_num_l, index=num_str_list)\n",
        "ser2"
      ],
      "execution_count": 0,
      "outputs": [
        {
          "output_type": "stream",
          "text": [
            "list of random numbers:  [3, 1, 2, 3, 2, 2, 1, 2, 3, 2]\n",
            "Here it is ser2:\n"
          ],
          "name": "stdout"
        },
        {
          "output_type": "execute_result",
          "data": {
            "text/plain": [
              "zero     3\n",
              "one      1\n",
              "two      2\n",
              "there    3\n",
              "four     2\n",
              "five     2\n",
              "six      1\n",
              "seven    2\n",
              "eight    3\n",
              "nine     2\n",
              "dtype: int64"
            ]
          },
          "metadata": {
            "tags": []
          },
          "execution_count": 58
        }
      ]
    },
    {
      "cell_type": "code",
      "metadata": {
        "id": "fmtGXxaQQhwB",
        "colab_type": "code",
        "outputId": "2b7de544-0ce9-4985-fdff-e1095329897a",
        "colab": {
          "base_uri": "https://localhost:8080/",
          "height": 102
        }
      },
      "source": [
        "#call module that does the change\n",
        "\n",
        "filter_num_l = []\n",
        "filter_num = 2\n",
        "for num in ser2.values:\n",
        "  if num > filter_num:\n",
        "    filter_num_l.append(num)\n",
        "\n",
        "ser3 = pd.Series(filter_num_l)\n",
        "print('Here it is ser3:')\n",
        "ser3"
      ],
      "execution_count": 0,
      "outputs": [
        {
          "output_type": "stream",
          "text": [
            "Here it is ser3:\n"
          ],
          "name": "stdout"
        },
        {
          "output_type": "execute_result",
          "data": {
            "text/plain": [
              "0    3\n",
              "1    3\n",
              "2    3\n",
              "dtype: int64"
            ]
          },
          "metadata": {
            "tags": []
          },
          "execution_count": 117
        }
      ]
    },
    {
      "cell_type": "code",
      "metadata": {
        "id": "5fF4iiotRQuV",
        "colab_type": "code",
        "outputId": "54cda38a-366a-4ff3-a215-f1042ce65e48",
        "colab": {
          "base_uri": "https://localhost:8080/",
          "height": 102
        }
      },
      "source": [
        "ser4 = np.exp(ser3)\n",
        "print('Here it is ser4:')\n",
        "ser4"
      ],
      "execution_count": 0,
      "outputs": [
        {
          "output_type": "stream",
          "text": [
            "Here it is ser4:\n"
          ],
          "name": "stdout"
        },
        {
          "output_type": "execute_result",
          "data": {
            "text/plain": [
              "0    20.085537\n",
              "1    20.085537\n",
              "2    20.085537\n",
              "dtype: float64"
            ]
          },
          "metadata": {
            "tags": []
          },
          "execution_count": 118
        }
      ]
    },
    {
      "cell_type": "markdown",
      "metadata": {
        "id": "B4rzKS_4cb8q",
        "colab_type": "text"
      },
      "source": [
        "1. Use a dictionary to create a dataframe df with three columns and ten rows. The column names are: state, population, and area. Pick 10 US states and their population and area (in squared kilometers). Each row consists of the name of a state, its population, and its area.\n",
        "2. After constructing df, change the index so the new index is the state column.\n",
        "3. Add a new column called population density where the values are the number of people per squared kilometer.\n",
        "4. Add a column called Abbrev where the values are the abbreviations of the states; for example, CA for California.\n",
        "5. Drop two rows of your choice\n",
        "6. Drop the Abbrev column\n",
        "7. Use slicing to display rows number 3 through number 6.\n",
        "8. Display the column called population."
      ]
    },
    {
      "cell_type": "code",
      "metadata": {
        "id": "ndkoP1BDTGSw",
        "colab_type": "code",
        "outputId": "ea86e575-720c-4483-d03c-b73e84fe7227",
        "colab": {
          "base_uri": "https://localhost:8080/",
          "height": 85
        }
      },
      "source": [
        "state_l = ['New York', 'California', 'Illinois',\n",
        "           'Texas', 'Arizona', 'Pennsylvania',\n",
        "           'Texas', 'California', 'Texas', 'California']\n",
        "popu_l = [8398748, 3990456, 2705994, \n",
        "          2325502, 1660272, 1584138,\n",
        "          1532233, 1425976, 1345047, 1030119\t]\n",
        "\n",
        "area_l = [780.9, 1213.9, 588.7,\n",
        "          1651.1, 1340.6, 347.6,\n",
        "          1194.0, 842.3, 882.9,459.7]\n",
        "speed_dict = {'State': state_l , 'Population': popu_l, 'Area (squared km)':area_l}\n",
        "\n",
        "pd.Series(speed_dict)"
      ],
      "execution_count": 0,
      "outputs": [
        {
          "output_type": "execute_result",
          "data": {
            "text/plain": [
              "State                [New York, California, Illinois, Texas, Arizon...\n",
              "Population           [8398748, 3990456, 2705994, 2325502, 1660272, ...\n",
              "Area (squared km)    [780.9, 1213.9, 588.7, 1651.1, 1340.6, 347.6, ...\n",
              "dtype: object"
            ]
          },
          "metadata": {
            "tags": []
          },
          "execution_count": 119
        }
      ]
    },
    {
      "cell_type": "code",
      "metadata": {
        "id": "2ozmOAx1WM7A",
        "colab_type": "code",
        "outputId": "3ca8253f-8cfa-4d12-8c8d-37071cd4ae45",
        "colab": {
          "base_uri": "https://localhost:8080/",
          "height": 376
        }
      },
      "source": [
        "df = pd.DataFrame(speed_dict, columns=['State', 'Population', 'Area (squared km)'])  \n",
        "#df = df.set_index('State')   \n",
        "print('Resulting Dataframe:')    \n",
        "df"
      ],
      "execution_count": 0,
      "outputs": [
        {
          "output_type": "stream",
          "text": [
            "Resulting Dataframe:\n"
          ],
          "name": "stdout"
        },
        {
          "output_type": "execute_result",
          "data": {
            "text/html": [
              "<div>\n",
              "<style scoped>\n",
              "    .dataframe tbody tr th:only-of-type {\n",
              "        vertical-align: middle;\n",
              "    }\n",
              "\n",
              "    .dataframe tbody tr th {\n",
              "        vertical-align: top;\n",
              "    }\n",
              "\n",
              "    .dataframe thead th {\n",
              "        text-align: right;\n",
              "    }\n",
              "</style>\n",
              "<table border=\"1\" class=\"dataframe\">\n",
              "  <thead>\n",
              "    <tr style=\"text-align: right;\">\n",
              "      <th></th>\n",
              "      <th>State</th>\n",
              "      <th>Population</th>\n",
              "      <th>Area (squared km)</th>\n",
              "    </tr>\n",
              "  </thead>\n",
              "  <tbody>\n",
              "    <tr>\n",
              "      <th>0</th>\n",
              "      <td>New York</td>\n",
              "      <td>8398748</td>\n",
              "      <td>780.9</td>\n",
              "    </tr>\n",
              "    <tr>\n",
              "      <th>1</th>\n",
              "      <td>California</td>\n",
              "      <td>3990456</td>\n",
              "      <td>1213.9</td>\n",
              "    </tr>\n",
              "    <tr>\n",
              "      <th>2</th>\n",
              "      <td>Illinois</td>\n",
              "      <td>2705994</td>\n",
              "      <td>588.7</td>\n",
              "    </tr>\n",
              "    <tr>\n",
              "      <th>3</th>\n",
              "      <td>Texas</td>\n",
              "      <td>2325502</td>\n",
              "      <td>1651.1</td>\n",
              "    </tr>\n",
              "    <tr>\n",
              "      <th>4</th>\n",
              "      <td>Arizona</td>\n",
              "      <td>1660272</td>\n",
              "      <td>1340.6</td>\n",
              "    </tr>\n",
              "    <tr>\n",
              "      <th>5</th>\n",
              "      <td>Pennsylvania</td>\n",
              "      <td>1584138</td>\n",
              "      <td>347.6</td>\n",
              "    </tr>\n",
              "    <tr>\n",
              "      <th>6</th>\n",
              "      <td>Texas</td>\n",
              "      <td>1532233</td>\n",
              "      <td>1194.0</td>\n",
              "    </tr>\n",
              "    <tr>\n",
              "      <th>7</th>\n",
              "      <td>California</td>\n",
              "      <td>1425976</td>\n",
              "      <td>842.3</td>\n",
              "    </tr>\n",
              "    <tr>\n",
              "      <th>8</th>\n",
              "      <td>Texas</td>\n",
              "      <td>1345047</td>\n",
              "      <td>882.9</td>\n",
              "    </tr>\n",
              "    <tr>\n",
              "      <th>9</th>\n",
              "      <td>California</td>\n",
              "      <td>1030119</td>\n",
              "      <td>459.7</td>\n",
              "    </tr>\n",
              "  </tbody>\n",
              "</table>\n",
              "</div>"
            ],
            "text/plain": [
              "          State  Population  Area (squared km)\n",
              "0      New York     8398748              780.9\n",
              "1    California     3990456             1213.9\n",
              "2      Illinois     2705994              588.7\n",
              "3         Texas     2325502             1651.1\n",
              "4       Arizona     1660272             1340.6\n",
              "5  Pennsylvania     1584138              347.6\n",
              "6         Texas     1532233             1194.0\n",
              "7    California     1425976              842.3\n",
              "8         Texas     1345047              882.9\n",
              "9    California     1030119              459.7"
            ]
          },
          "metadata": {
            "tags": []
          },
          "execution_count": 120
        }
      ]
    },
    {
      "cell_type": "code",
      "metadata": {
        "id": "wrGz-HjVW8S8",
        "colab_type": "code",
        "outputId": "94767513-7133-4890-c94f-00b839f05f4b",
        "colab": {
          "base_uri": "https://localhost:8080/",
          "height": 407
        }
      },
      "source": [
        "df = df.set_index('State')   \n",
        "print('Dataframe with changed index:')\n",
        "df"
      ],
      "execution_count": 0,
      "outputs": [
        {
          "output_type": "stream",
          "text": [
            "Dataframe with changed index:\n"
          ],
          "name": "stdout"
        },
        {
          "output_type": "execute_result",
          "data": {
            "text/html": [
              "<div>\n",
              "<style scoped>\n",
              "    .dataframe tbody tr th:only-of-type {\n",
              "        vertical-align: middle;\n",
              "    }\n",
              "\n",
              "    .dataframe tbody tr th {\n",
              "        vertical-align: top;\n",
              "    }\n",
              "\n",
              "    .dataframe thead th {\n",
              "        text-align: right;\n",
              "    }\n",
              "</style>\n",
              "<table border=\"1\" class=\"dataframe\">\n",
              "  <thead>\n",
              "    <tr style=\"text-align: right;\">\n",
              "      <th></th>\n",
              "      <th>Population</th>\n",
              "      <th>Area (squared km)</th>\n",
              "    </tr>\n",
              "    <tr>\n",
              "      <th>State</th>\n",
              "      <th></th>\n",
              "      <th></th>\n",
              "    </tr>\n",
              "  </thead>\n",
              "  <tbody>\n",
              "    <tr>\n",
              "      <th>New York</th>\n",
              "      <td>8398748</td>\n",
              "      <td>780.9</td>\n",
              "    </tr>\n",
              "    <tr>\n",
              "      <th>California</th>\n",
              "      <td>3990456</td>\n",
              "      <td>1213.9</td>\n",
              "    </tr>\n",
              "    <tr>\n",
              "      <th>Illinois</th>\n",
              "      <td>2705994</td>\n",
              "      <td>588.7</td>\n",
              "    </tr>\n",
              "    <tr>\n",
              "      <th>Texas</th>\n",
              "      <td>2325502</td>\n",
              "      <td>1651.1</td>\n",
              "    </tr>\n",
              "    <tr>\n",
              "      <th>Arizona</th>\n",
              "      <td>1660272</td>\n",
              "      <td>1340.6</td>\n",
              "    </tr>\n",
              "    <tr>\n",
              "      <th>Pennsylvania</th>\n",
              "      <td>1584138</td>\n",
              "      <td>347.6</td>\n",
              "    </tr>\n",
              "    <tr>\n",
              "      <th>Texas</th>\n",
              "      <td>1532233</td>\n",
              "      <td>1194.0</td>\n",
              "    </tr>\n",
              "    <tr>\n",
              "      <th>California</th>\n",
              "      <td>1425976</td>\n",
              "      <td>842.3</td>\n",
              "    </tr>\n",
              "    <tr>\n",
              "      <th>Texas</th>\n",
              "      <td>1345047</td>\n",
              "      <td>882.9</td>\n",
              "    </tr>\n",
              "    <tr>\n",
              "      <th>California</th>\n",
              "      <td>1030119</td>\n",
              "      <td>459.7</td>\n",
              "    </tr>\n",
              "  </tbody>\n",
              "</table>\n",
              "</div>"
            ],
            "text/plain": [
              "              Population  Area (squared km)\n",
              "State                                      \n",
              "New York         8398748              780.9\n",
              "California       3990456             1213.9\n",
              "Illinois         2705994              588.7\n",
              "Texas            2325502             1651.1\n",
              "Arizona          1660272             1340.6\n",
              "Pennsylvania     1584138              347.6\n",
              "Texas            1532233             1194.0\n",
              "California       1425976              842.3\n",
              "Texas            1345047              882.9\n",
              "California       1030119              459.7"
            ]
          },
          "metadata": {
            "tags": []
          },
          "execution_count": 121
        }
      ]
    },
    {
      "cell_type": "code",
      "metadata": {
        "id": "_-hmE3F7XP_N",
        "colab_type": "code",
        "outputId": "fd33f383-04aa-417f-c26a-02fa82966630",
        "colab": {
          "base_uri": "https://localhost:8080/",
          "height": 390
        }
      },
      "source": [
        "#add a new column that gives the population density \n",
        "\n",
        "df['Population Density per squared km'] = [10933, 3276, 4600,\n",
        "                            1395, 1200, 4511,\n",
        "                            1250, 1670, 1493, 2231]\n",
        "\n",
        "df"
      ],
      "execution_count": 0,
      "outputs": [
        {
          "output_type": "execute_result",
          "data": {
            "text/html": [
              "<div>\n",
              "<style scoped>\n",
              "    .dataframe tbody tr th:only-of-type {\n",
              "        vertical-align: middle;\n",
              "    }\n",
              "\n",
              "    .dataframe tbody tr th {\n",
              "        vertical-align: top;\n",
              "    }\n",
              "\n",
              "    .dataframe thead th {\n",
              "        text-align: right;\n",
              "    }\n",
              "</style>\n",
              "<table border=\"1\" class=\"dataframe\">\n",
              "  <thead>\n",
              "    <tr style=\"text-align: right;\">\n",
              "      <th></th>\n",
              "      <th>Population</th>\n",
              "      <th>Area (squared km)</th>\n",
              "      <th>Population Density per squared km</th>\n",
              "    </tr>\n",
              "    <tr>\n",
              "      <th>State</th>\n",
              "      <th></th>\n",
              "      <th></th>\n",
              "      <th></th>\n",
              "    </tr>\n",
              "  </thead>\n",
              "  <tbody>\n",
              "    <tr>\n",
              "      <th>New York</th>\n",
              "      <td>8398748</td>\n",
              "      <td>780.9</td>\n",
              "      <td>10933</td>\n",
              "    </tr>\n",
              "    <tr>\n",
              "      <th>California</th>\n",
              "      <td>3990456</td>\n",
              "      <td>1213.9</td>\n",
              "      <td>3276</td>\n",
              "    </tr>\n",
              "    <tr>\n",
              "      <th>Illinois</th>\n",
              "      <td>2705994</td>\n",
              "      <td>588.7</td>\n",
              "      <td>4600</td>\n",
              "    </tr>\n",
              "    <tr>\n",
              "      <th>Texas</th>\n",
              "      <td>2325502</td>\n",
              "      <td>1651.1</td>\n",
              "      <td>1395</td>\n",
              "    </tr>\n",
              "    <tr>\n",
              "      <th>Arizona</th>\n",
              "      <td>1660272</td>\n",
              "      <td>1340.6</td>\n",
              "      <td>1200</td>\n",
              "    </tr>\n",
              "    <tr>\n",
              "      <th>Pennsylvania</th>\n",
              "      <td>1584138</td>\n",
              "      <td>347.6</td>\n",
              "      <td>4511</td>\n",
              "    </tr>\n",
              "    <tr>\n",
              "      <th>Texas</th>\n",
              "      <td>1532233</td>\n",
              "      <td>1194.0</td>\n",
              "      <td>1250</td>\n",
              "    </tr>\n",
              "    <tr>\n",
              "      <th>California</th>\n",
              "      <td>1425976</td>\n",
              "      <td>842.3</td>\n",
              "      <td>1670</td>\n",
              "    </tr>\n",
              "    <tr>\n",
              "      <th>Texas</th>\n",
              "      <td>1345047</td>\n",
              "      <td>882.9</td>\n",
              "      <td>1493</td>\n",
              "    </tr>\n",
              "    <tr>\n",
              "      <th>California</th>\n",
              "      <td>1030119</td>\n",
              "      <td>459.7</td>\n",
              "      <td>2231</td>\n",
              "    </tr>\n",
              "  </tbody>\n",
              "</table>\n",
              "</div>"
            ],
            "text/plain": [
              "              Population  Area (squared km)  Population Density per squared km\n",
              "State                                                                         \n",
              "New York         8398748              780.9                              10933\n",
              "California       3990456             1213.9                               3276\n",
              "Illinois         2705994              588.7                               4600\n",
              "Texas            2325502             1651.1                               1395\n",
              "Arizona          1660272             1340.6                               1200\n",
              "Pennsylvania     1584138              347.6                               4511\n",
              "Texas            1532233             1194.0                               1250\n",
              "California       1425976              842.3                               1670\n",
              "Texas            1345047              882.9                               1493\n",
              "California       1030119              459.7                               2231"
            ]
          },
          "metadata": {
            "tags": []
          },
          "execution_count": 122
        }
      ]
    },
    {
      "cell_type": "code",
      "metadata": {
        "id": "qHu50s88YCdQ",
        "colab_type": "code",
        "outputId": "a9537df3-e044-4597-b235-cb3ae8d1365a",
        "colab": {
          "base_uri": "https://localhost:8080/",
          "height": 390
        }
      },
      "source": [
        "#add column named Abbrev\n",
        "df['Abbrev'] = ['NY', 'CA', 'IL',\n",
        "                'TX', 'AZ', 'PA',\n",
        "                'TX', 'CA', 'TX', 'CA']\n",
        "\n",
        "df"
      ],
      "execution_count": 0,
      "outputs": [
        {
          "output_type": "execute_result",
          "data": {
            "text/html": [
              "<div>\n",
              "<style scoped>\n",
              "    .dataframe tbody tr th:only-of-type {\n",
              "        vertical-align: middle;\n",
              "    }\n",
              "\n",
              "    .dataframe tbody tr th {\n",
              "        vertical-align: top;\n",
              "    }\n",
              "\n",
              "    .dataframe thead th {\n",
              "        text-align: right;\n",
              "    }\n",
              "</style>\n",
              "<table border=\"1\" class=\"dataframe\">\n",
              "  <thead>\n",
              "    <tr style=\"text-align: right;\">\n",
              "      <th></th>\n",
              "      <th>Population</th>\n",
              "      <th>Area (squared km)</th>\n",
              "      <th>Population Density per squared km</th>\n",
              "      <th>Abbrev</th>\n",
              "    </tr>\n",
              "    <tr>\n",
              "      <th>State</th>\n",
              "      <th></th>\n",
              "      <th></th>\n",
              "      <th></th>\n",
              "      <th></th>\n",
              "    </tr>\n",
              "  </thead>\n",
              "  <tbody>\n",
              "    <tr>\n",
              "      <th>New York</th>\n",
              "      <td>8398748</td>\n",
              "      <td>780.9</td>\n",
              "      <td>10933</td>\n",
              "      <td>NY</td>\n",
              "    </tr>\n",
              "    <tr>\n",
              "      <th>California</th>\n",
              "      <td>3990456</td>\n",
              "      <td>1213.9</td>\n",
              "      <td>3276</td>\n",
              "      <td>CA</td>\n",
              "    </tr>\n",
              "    <tr>\n",
              "      <th>Illinois</th>\n",
              "      <td>2705994</td>\n",
              "      <td>588.7</td>\n",
              "      <td>4600</td>\n",
              "      <td>IL</td>\n",
              "    </tr>\n",
              "    <tr>\n",
              "      <th>Texas</th>\n",
              "      <td>2325502</td>\n",
              "      <td>1651.1</td>\n",
              "      <td>1395</td>\n",
              "      <td>TX</td>\n",
              "    </tr>\n",
              "    <tr>\n",
              "      <th>Arizona</th>\n",
              "      <td>1660272</td>\n",
              "      <td>1340.6</td>\n",
              "      <td>1200</td>\n",
              "      <td>AZ</td>\n",
              "    </tr>\n",
              "    <tr>\n",
              "      <th>Pennsylvania</th>\n",
              "      <td>1584138</td>\n",
              "      <td>347.6</td>\n",
              "      <td>4511</td>\n",
              "      <td>PA</td>\n",
              "    </tr>\n",
              "    <tr>\n",
              "      <th>Texas</th>\n",
              "      <td>1532233</td>\n",
              "      <td>1194.0</td>\n",
              "      <td>1250</td>\n",
              "      <td>TX</td>\n",
              "    </tr>\n",
              "    <tr>\n",
              "      <th>California</th>\n",
              "      <td>1425976</td>\n",
              "      <td>842.3</td>\n",
              "      <td>1670</td>\n",
              "      <td>CA</td>\n",
              "    </tr>\n",
              "    <tr>\n",
              "      <th>Texas</th>\n",
              "      <td>1345047</td>\n",
              "      <td>882.9</td>\n",
              "      <td>1493</td>\n",
              "      <td>TX</td>\n",
              "    </tr>\n",
              "    <tr>\n",
              "      <th>California</th>\n",
              "      <td>1030119</td>\n",
              "      <td>459.7</td>\n",
              "      <td>2231</td>\n",
              "      <td>CA</td>\n",
              "    </tr>\n",
              "  </tbody>\n",
              "</table>\n",
              "</div>"
            ],
            "text/plain": [
              "              Population  ...  Abbrev\n",
              "State                     ...        \n",
              "New York         8398748  ...      NY\n",
              "California       3990456  ...      CA\n",
              "Illinois         2705994  ...      IL\n",
              "Texas            2325502  ...      TX\n",
              "Arizona          1660272  ...      AZ\n",
              "Pennsylvania     1584138  ...      PA\n",
              "Texas            1532233  ...      TX\n",
              "California       1425976  ...      CA\n",
              "Texas            1345047  ...      TX\n",
              "California       1030119  ...      CA\n",
              "\n",
              "[10 rows x 4 columns]"
            ]
          },
          "metadata": {
            "tags": []
          },
          "execution_count": 123
        }
      ]
    },
    {
      "cell_type": "code",
      "metadata": {
        "id": "AzAD9a5vYW29",
        "colab_type": "code",
        "outputId": "1ea249d8-64f8-450e-d104-28b8f7b2f414",
        "colab": {
          "base_uri": "https://localhost:8080/",
          "height": 704
        }
      },
      "source": [
        "#drop two rows of my choice\n",
        "df = df[:-1]\n",
        "print('dropping the last row of the initial dataframe:')\n",
        "display(df)\n",
        "print('repeat:')\n",
        "df = df[:-1]\n",
        "display(df)"
      ],
      "execution_count": 0,
      "outputs": [
        {
          "output_type": "stream",
          "text": [
            "dropping the last row of the initial dataframe:\n"
          ],
          "name": "stdout"
        },
        {
          "output_type": "display_data",
          "data": {
            "text/html": [
              "<div>\n",
              "<style scoped>\n",
              "    .dataframe tbody tr th:only-of-type {\n",
              "        vertical-align: middle;\n",
              "    }\n",
              "\n",
              "    .dataframe tbody tr th {\n",
              "        vertical-align: top;\n",
              "    }\n",
              "\n",
              "    .dataframe thead th {\n",
              "        text-align: right;\n",
              "    }\n",
              "</style>\n",
              "<table border=\"1\" class=\"dataframe\">\n",
              "  <thead>\n",
              "    <tr style=\"text-align: right;\">\n",
              "      <th></th>\n",
              "      <th>Population</th>\n",
              "      <th>Area (squared km)</th>\n",
              "      <th>Population Density per squared km</th>\n",
              "      <th>Abbrev</th>\n",
              "    </tr>\n",
              "    <tr>\n",
              "      <th>State</th>\n",
              "      <th></th>\n",
              "      <th></th>\n",
              "      <th></th>\n",
              "      <th></th>\n",
              "    </tr>\n",
              "  </thead>\n",
              "  <tbody>\n",
              "    <tr>\n",
              "      <th>New York</th>\n",
              "      <td>8398748</td>\n",
              "      <td>780.9</td>\n",
              "      <td>10933</td>\n",
              "      <td>NY</td>\n",
              "    </tr>\n",
              "    <tr>\n",
              "      <th>California</th>\n",
              "      <td>3990456</td>\n",
              "      <td>1213.9</td>\n",
              "      <td>3276</td>\n",
              "      <td>CA</td>\n",
              "    </tr>\n",
              "    <tr>\n",
              "      <th>Illinois</th>\n",
              "      <td>2705994</td>\n",
              "      <td>588.7</td>\n",
              "      <td>4600</td>\n",
              "      <td>IL</td>\n",
              "    </tr>\n",
              "    <tr>\n",
              "      <th>Texas</th>\n",
              "      <td>2325502</td>\n",
              "      <td>1651.1</td>\n",
              "      <td>1395</td>\n",
              "      <td>TX</td>\n",
              "    </tr>\n",
              "    <tr>\n",
              "      <th>Arizona</th>\n",
              "      <td>1660272</td>\n",
              "      <td>1340.6</td>\n",
              "      <td>1200</td>\n",
              "      <td>AZ</td>\n",
              "    </tr>\n",
              "    <tr>\n",
              "      <th>Pennsylvania</th>\n",
              "      <td>1584138</td>\n",
              "      <td>347.6</td>\n",
              "      <td>4511</td>\n",
              "      <td>PA</td>\n",
              "    </tr>\n",
              "    <tr>\n",
              "      <th>Texas</th>\n",
              "      <td>1532233</td>\n",
              "      <td>1194.0</td>\n",
              "      <td>1250</td>\n",
              "      <td>TX</td>\n",
              "    </tr>\n",
              "    <tr>\n",
              "      <th>California</th>\n",
              "      <td>1425976</td>\n",
              "      <td>842.3</td>\n",
              "      <td>1670</td>\n",
              "      <td>CA</td>\n",
              "    </tr>\n",
              "    <tr>\n",
              "      <th>Texas</th>\n",
              "      <td>1345047</td>\n",
              "      <td>882.9</td>\n",
              "      <td>1493</td>\n",
              "      <td>TX</td>\n",
              "    </tr>\n",
              "  </tbody>\n",
              "</table>\n",
              "</div>"
            ],
            "text/plain": [
              "              Population  ...  Abbrev\n",
              "State                     ...        \n",
              "New York         8398748  ...      NY\n",
              "California       3990456  ...      CA\n",
              "Illinois         2705994  ...      IL\n",
              "Texas            2325502  ...      TX\n",
              "Arizona          1660272  ...      AZ\n",
              "Pennsylvania     1584138  ...      PA\n",
              "Texas            1532233  ...      TX\n",
              "California       1425976  ...      CA\n",
              "Texas            1345047  ...      TX\n",
              "\n",
              "[9 rows x 4 columns]"
            ]
          },
          "metadata": {
            "tags": []
          }
        },
        {
          "output_type": "stream",
          "text": [
            "repeat:\n"
          ],
          "name": "stdout"
        },
        {
          "output_type": "display_data",
          "data": {
            "text/html": [
              "<div>\n",
              "<style scoped>\n",
              "    .dataframe tbody tr th:only-of-type {\n",
              "        vertical-align: middle;\n",
              "    }\n",
              "\n",
              "    .dataframe tbody tr th {\n",
              "        vertical-align: top;\n",
              "    }\n",
              "\n",
              "    .dataframe thead th {\n",
              "        text-align: right;\n",
              "    }\n",
              "</style>\n",
              "<table border=\"1\" class=\"dataframe\">\n",
              "  <thead>\n",
              "    <tr style=\"text-align: right;\">\n",
              "      <th></th>\n",
              "      <th>Population</th>\n",
              "      <th>Area (squared km)</th>\n",
              "      <th>Population Density per squared km</th>\n",
              "      <th>Abbrev</th>\n",
              "    </tr>\n",
              "    <tr>\n",
              "      <th>State</th>\n",
              "      <th></th>\n",
              "      <th></th>\n",
              "      <th></th>\n",
              "      <th></th>\n",
              "    </tr>\n",
              "  </thead>\n",
              "  <tbody>\n",
              "    <tr>\n",
              "      <th>New York</th>\n",
              "      <td>8398748</td>\n",
              "      <td>780.9</td>\n",
              "      <td>10933</td>\n",
              "      <td>NY</td>\n",
              "    </tr>\n",
              "    <tr>\n",
              "      <th>California</th>\n",
              "      <td>3990456</td>\n",
              "      <td>1213.9</td>\n",
              "      <td>3276</td>\n",
              "      <td>CA</td>\n",
              "    </tr>\n",
              "    <tr>\n",
              "      <th>Illinois</th>\n",
              "      <td>2705994</td>\n",
              "      <td>588.7</td>\n",
              "      <td>4600</td>\n",
              "      <td>IL</td>\n",
              "    </tr>\n",
              "    <tr>\n",
              "      <th>Texas</th>\n",
              "      <td>2325502</td>\n",
              "      <td>1651.1</td>\n",
              "      <td>1395</td>\n",
              "      <td>TX</td>\n",
              "    </tr>\n",
              "    <tr>\n",
              "      <th>Arizona</th>\n",
              "      <td>1660272</td>\n",
              "      <td>1340.6</td>\n",
              "      <td>1200</td>\n",
              "      <td>AZ</td>\n",
              "    </tr>\n",
              "    <tr>\n",
              "      <th>Pennsylvania</th>\n",
              "      <td>1584138</td>\n",
              "      <td>347.6</td>\n",
              "      <td>4511</td>\n",
              "      <td>PA</td>\n",
              "    </tr>\n",
              "    <tr>\n",
              "      <th>Texas</th>\n",
              "      <td>1532233</td>\n",
              "      <td>1194.0</td>\n",
              "      <td>1250</td>\n",
              "      <td>TX</td>\n",
              "    </tr>\n",
              "    <tr>\n",
              "      <th>California</th>\n",
              "      <td>1425976</td>\n",
              "      <td>842.3</td>\n",
              "      <td>1670</td>\n",
              "      <td>CA</td>\n",
              "    </tr>\n",
              "  </tbody>\n",
              "</table>\n",
              "</div>"
            ],
            "text/plain": [
              "              Population  ...  Abbrev\n",
              "State                     ...        \n",
              "New York         8398748  ...      NY\n",
              "California       3990456  ...      CA\n",
              "Illinois         2705994  ...      IL\n",
              "Texas            2325502  ...      TX\n",
              "Arizona          1660272  ...      AZ\n",
              "Pennsylvania     1584138  ...      PA\n",
              "Texas            1532233  ...      TX\n",
              "California       1425976  ...      CA\n",
              "\n",
              "[8 rows x 4 columns]"
            ]
          },
          "metadata": {
            "tags": []
          }
        }
      ]
    },
    {
      "cell_type": "code",
      "metadata": {
        "id": "7L8QKULdZ79J",
        "colab_type": "code",
        "outputId": "bb83b9f0-2fef-4f5e-ed8f-d04038c25111",
        "colab": {
          "base_uri": "https://localhost:8080/",
          "height": 345
        }
      },
      "source": [
        "#drop abbrev column\n",
        "df = df.drop('Abbrev', axis=1)\n",
        "print('Resulting Dataframe:')\n",
        "df"
      ],
      "execution_count": 0,
      "outputs": [
        {
          "output_type": "stream",
          "text": [
            "Resulting Dataframe:\n"
          ],
          "name": "stdout"
        },
        {
          "output_type": "execute_result",
          "data": {
            "text/html": [
              "<div>\n",
              "<style scoped>\n",
              "    .dataframe tbody tr th:only-of-type {\n",
              "        vertical-align: middle;\n",
              "    }\n",
              "\n",
              "    .dataframe tbody tr th {\n",
              "        vertical-align: top;\n",
              "    }\n",
              "\n",
              "    .dataframe thead th {\n",
              "        text-align: right;\n",
              "    }\n",
              "</style>\n",
              "<table border=\"1\" class=\"dataframe\">\n",
              "  <thead>\n",
              "    <tr style=\"text-align: right;\">\n",
              "      <th></th>\n",
              "      <th>Population</th>\n",
              "      <th>Area (squared km)</th>\n",
              "      <th>Population Density per squared km</th>\n",
              "    </tr>\n",
              "    <tr>\n",
              "      <th>State</th>\n",
              "      <th></th>\n",
              "      <th></th>\n",
              "      <th></th>\n",
              "    </tr>\n",
              "  </thead>\n",
              "  <tbody>\n",
              "    <tr>\n",
              "      <th>New York</th>\n",
              "      <td>8398748</td>\n",
              "      <td>780.9</td>\n",
              "      <td>10933</td>\n",
              "    </tr>\n",
              "    <tr>\n",
              "      <th>California</th>\n",
              "      <td>3990456</td>\n",
              "      <td>1213.9</td>\n",
              "      <td>3276</td>\n",
              "    </tr>\n",
              "    <tr>\n",
              "      <th>Illinois</th>\n",
              "      <td>2705994</td>\n",
              "      <td>588.7</td>\n",
              "      <td>4600</td>\n",
              "    </tr>\n",
              "    <tr>\n",
              "      <th>Texas</th>\n",
              "      <td>2325502</td>\n",
              "      <td>1651.1</td>\n",
              "      <td>1395</td>\n",
              "    </tr>\n",
              "    <tr>\n",
              "      <th>Arizona</th>\n",
              "      <td>1660272</td>\n",
              "      <td>1340.6</td>\n",
              "      <td>1200</td>\n",
              "    </tr>\n",
              "    <tr>\n",
              "      <th>Pennsylvania</th>\n",
              "      <td>1584138</td>\n",
              "      <td>347.6</td>\n",
              "      <td>4511</td>\n",
              "    </tr>\n",
              "    <tr>\n",
              "      <th>Texas</th>\n",
              "      <td>1532233</td>\n",
              "      <td>1194.0</td>\n",
              "      <td>1250</td>\n",
              "    </tr>\n",
              "    <tr>\n",
              "      <th>California</th>\n",
              "      <td>1425976</td>\n",
              "      <td>842.3</td>\n",
              "      <td>1670</td>\n",
              "    </tr>\n",
              "  </tbody>\n",
              "</table>\n",
              "</div>"
            ],
            "text/plain": [
              "              Population  Area (squared km)  Population Density per squared km\n",
              "State                                                                         \n",
              "New York         8398748              780.9                              10933\n",
              "California       3990456             1213.9                               3276\n",
              "Illinois         2705994              588.7                               4600\n",
              "Texas            2325502             1651.1                               1395\n",
              "Arizona          1660272             1340.6                               1200\n",
              "Pennsylvania     1584138              347.6                               4511\n",
              "Texas            1532233             1194.0                               1250\n",
              "California       1425976              842.3                               1670"
            ]
          },
          "metadata": {
            "tags": []
          },
          "execution_count": 125
        }
      ]
    },
    {
      "cell_type": "code",
      "metadata": {
        "id": "91pPmVU-aW1x",
        "colab_type": "code",
        "outputId": "d288d5c8-5675-4fb9-fe10-ad8744f4544c",
        "colab": {
          "base_uri": "https://localhost:8080/",
          "height": 221
        }
      },
      "source": [
        "print('Rows 3 to 6:')\n",
        "df.iloc[3:7]"
      ],
      "execution_count": 0,
      "outputs": [
        {
          "output_type": "stream",
          "text": [
            "Rows 3 to 6:\n"
          ],
          "name": "stdout"
        },
        {
          "output_type": "execute_result",
          "data": {
            "text/html": [
              "<div>\n",
              "<style scoped>\n",
              "    .dataframe tbody tr th:only-of-type {\n",
              "        vertical-align: middle;\n",
              "    }\n",
              "\n",
              "    .dataframe tbody tr th {\n",
              "        vertical-align: top;\n",
              "    }\n",
              "\n",
              "    .dataframe thead th {\n",
              "        text-align: right;\n",
              "    }\n",
              "</style>\n",
              "<table border=\"1\" class=\"dataframe\">\n",
              "  <thead>\n",
              "    <tr style=\"text-align: right;\">\n",
              "      <th></th>\n",
              "      <th>Population</th>\n",
              "      <th>Area (squared km)</th>\n",
              "      <th>Population Density per squared km</th>\n",
              "    </tr>\n",
              "    <tr>\n",
              "      <th>State</th>\n",
              "      <th></th>\n",
              "      <th></th>\n",
              "      <th></th>\n",
              "    </tr>\n",
              "  </thead>\n",
              "  <tbody>\n",
              "    <tr>\n",
              "      <th>Texas</th>\n",
              "      <td>2325502</td>\n",
              "      <td>1651.1</td>\n",
              "      <td>1395</td>\n",
              "    </tr>\n",
              "    <tr>\n",
              "      <th>Arizona</th>\n",
              "      <td>1660272</td>\n",
              "      <td>1340.6</td>\n",
              "      <td>1200</td>\n",
              "    </tr>\n",
              "    <tr>\n",
              "      <th>Pennsylvania</th>\n",
              "      <td>1584138</td>\n",
              "      <td>347.6</td>\n",
              "      <td>4511</td>\n",
              "    </tr>\n",
              "    <tr>\n",
              "      <th>Texas</th>\n",
              "      <td>1532233</td>\n",
              "      <td>1194.0</td>\n",
              "      <td>1250</td>\n",
              "    </tr>\n",
              "  </tbody>\n",
              "</table>\n",
              "</div>"
            ],
            "text/plain": [
              "              Population  Area (squared km)  Population Density per squared km\n",
              "State                                                                         \n",
              "Texas            2325502             1651.1                               1395\n",
              "Arizona          1660272             1340.6                               1200\n",
              "Pennsylvania     1584138              347.6                               4511\n",
              "Texas            1532233             1194.0                               1250"
            ]
          },
          "metadata": {
            "tags": []
          },
          "execution_count": 130
        }
      ]
    },
    {
      "cell_type": "code",
      "metadata": {
        "id": "IbNwEju3bzDY",
        "colab_type": "code",
        "outputId": "f36e73f7-eaa4-4172-c461-de029e058cce",
        "colab": {
          "base_uri": "https://localhost:8080/",
          "height": 204
        }
      },
      "source": [
        "print('Population column:')\n",
        "display(df.loc[:,'Population'])"
      ],
      "execution_count": 0,
      "outputs": [
        {
          "output_type": "stream",
          "text": [
            "Population column:\n"
          ],
          "name": "stdout"
        },
        {
          "output_type": "display_data",
          "data": {
            "text/plain": [
              "State\n",
              "New York        8398748\n",
              "California      3990456\n",
              "Illinois        2705994\n",
              "Texas           2325502\n",
              "Arizona         1660272\n",
              "Pennsylvania    1584138\n",
              "Texas           1532233\n",
              "California      1425976\n",
              "Name: Population, dtype: int64"
            ]
          },
          "metadata": {
            "tags": []
          }
        }
      ]
    },
    {
      "cell_type": "markdown",
      "metadata": {
        "id": "BQM-RlFMcjfg",
        "colab_type": "text"
      },
      "source": [
        "1. Construct a dataframe from a 5x5 numpy array of random numbers between 0 and 1. Take the index as a, b, c, d, e. The column names ae the default.\n",
        "2. Now rename the columns to c1, c2, c3, c4, c5.\n",
        "3. Display the first and 3rd columns.\n",
        "4. Display the central 3x3 matrix\n",
        "5. Give some demonstrations of the use of loc and iloc and explain the difference between them.\n",
        "6. Add two new column c6 and c7 where the values in c6 are those in c1 minus those in c2, and the values in column c7 are those in c3 minus those in c4 minus those in c5.\n",
        "7. Replace the negative numbers in columns c6 and c7 by NaN.\n",
        "8. Replace the NaN’s by the mean of the rest of the values in the dataframe.\n"
      ]
    },
    {
      "cell_type": "code",
      "metadata": {
        "id": "Y5bsSPLYcXzo",
        "colab_type": "code",
        "outputId": "1f5e3183-8b08-42c8-d270-8a95ee067b83",
        "colab": {
          "base_uri": "https://localhost:8080/",
          "height": 204
        }
      },
      "source": [
        "rnd_matrix = np.random.uniform(size=(5,5))\n",
        "\n",
        "rnd_matrix\n",
        "\n",
        "rnd_df = pd.DataFrame(rnd_matrix, index=['a', 'b', 'c', 'd','e'])\n",
        "rnd_df"
      ],
      "execution_count": 0,
      "outputs": [
        {
          "output_type": "execute_result",
          "data": {
            "text/html": [
              "<div>\n",
              "<style scoped>\n",
              "    .dataframe tbody tr th:only-of-type {\n",
              "        vertical-align: middle;\n",
              "    }\n",
              "\n",
              "    .dataframe tbody tr th {\n",
              "        vertical-align: top;\n",
              "    }\n",
              "\n",
              "    .dataframe thead th {\n",
              "        text-align: right;\n",
              "    }\n",
              "</style>\n",
              "<table border=\"1\" class=\"dataframe\">\n",
              "  <thead>\n",
              "    <tr style=\"text-align: right;\">\n",
              "      <th></th>\n",
              "      <th>0</th>\n",
              "      <th>1</th>\n",
              "      <th>2</th>\n",
              "      <th>3</th>\n",
              "      <th>4</th>\n",
              "    </tr>\n",
              "  </thead>\n",
              "  <tbody>\n",
              "    <tr>\n",
              "      <th>a</th>\n",
              "      <td>0.948940</td>\n",
              "      <td>0.113859</td>\n",
              "      <td>0.291493</td>\n",
              "      <td>0.350138</td>\n",
              "      <td>0.662289</td>\n",
              "    </tr>\n",
              "    <tr>\n",
              "      <th>b</th>\n",
              "      <td>0.383145</td>\n",
              "      <td>0.981683</td>\n",
              "      <td>0.566025</td>\n",
              "      <td>0.566981</td>\n",
              "      <td>0.044841</td>\n",
              "    </tr>\n",
              "    <tr>\n",
              "      <th>c</th>\n",
              "      <td>0.664758</td>\n",
              "      <td>0.127719</td>\n",
              "      <td>0.824551</td>\n",
              "      <td>0.289920</td>\n",
              "      <td>0.366394</td>\n",
              "    </tr>\n",
              "    <tr>\n",
              "      <th>d</th>\n",
              "      <td>0.969274</td>\n",
              "      <td>0.755818</td>\n",
              "      <td>0.477349</td>\n",
              "      <td>0.749072</td>\n",
              "      <td>0.409417</td>\n",
              "    </tr>\n",
              "    <tr>\n",
              "      <th>e</th>\n",
              "      <td>0.408108</td>\n",
              "      <td>0.224584</td>\n",
              "      <td>0.913166</td>\n",
              "      <td>0.315248</td>\n",
              "      <td>0.633900</td>\n",
              "    </tr>\n",
              "  </tbody>\n",
              "</table>\n",
              "</div>"
            ],
            "text/plain": [
              "          0         1         2         3         4\n",
              "a  0.948940  0.113859  0.291493  0.350138  0.662289\n",
              "b  0.383145  0.981683  0.566025  0.566981  0.044841\n",
              "c  0.664758  0.127719  0.824551  0.289920  0.366394\n",
              "d  0.969274  0.755818  0.477349  0.749072  0.409417\n",
              "e  0.408108  0.224584  0.913166  0.315248  0.633900"
            ]
          },
          "metadata": {
            "tags": []
          },
          "execution_count": 286
        }
      ]
    },
    {
      "cell_type": "code",
      "metadata": {
        "id": "3V8I_PpHdBGB",
        "colab_type": "code",
        "outputId": "c6b8025e-f4ca-4ba4-d8f6-834657c837ef",
        "colab": {
          "base_uri": "https://localhost:8080/",
          "height": 204
        }
      },
      "source": [
        "#rename columns\n",
        "\n",
        "rnd_df = rnd_df.rename(columns={0: 'c1', 1:'c2', 2:'c3', 3:'c4', 4:'c5'})\n",
        "\n",
        "rnd_df"
      ],
      "execution_count": 0,
      "outputs": [
        {
          "output_type": "execute_result",
          "data": {
            "text/html": [
              "<div>\n",
              "<style scoped>\n",
              "    .dataframe tbody tr th:only-of-type {\n",
              "        vertical-align: middle;\n",
              "    }\n",
              "\n",
              "    .dataframe tbody tr th {\n",
              "        vertical-align: top;\n",
              "    }\n",
              "\n",
              "    .dataframe thead th {\n",
              "        text-align: right;\n",
              "    }\n",
              "</style>\n",
              "<table border=\"1\" class=\"dataframe\">\n",
              "  <thead>\n",
              "    <tr style=\"text-align: right;\">\n",
              "      <th></th>\n",
              "      <th>c1</th>\n",
              "      <th>c2</th>\n",
              "      <th>c3</th>\n",
              "      <th>c4</th>\n",
              "      <th>c5</th>\n",
              "    </tr>\n",
              "  </thead>\n",
              "  <tbody>\n",
              "    <tr>\n",
              "      <th>a</th>\n",
              "      <td>0.948940</td>\n",
              "      <td>0.113859</td>\n",
              "      <td>0.291493</td>\n",
              "      <td>0.350138</td>\n",
              "      <td>0.662289</td>\n",
              "    </tr>\n",
              "    <tr>\n",
              "      <th>b</th>\n",
              "      <td>0.383145</td>\n",
              "      <td>0.981683</td>\n",
              "      <td>0.566025</td>\n",
              "      <td>0.566981</td>\n",
              "      <td>0.044841</td>\n",
              "    </tr>\n",
              "    <tr>\n",
              "      <th>c</th>\n",
              "      <td>0.664758</td>\n",
              "      <td>0.127719</td>\n",
              "      <td>0.824551</td>\n",
              "      <td>0.289920</td>\n",
              "      <td>0.366394</td>\n",
              "    </tr>\n",
              "    <tr>\n",
              "      <th>d</th>\n",
              "      <td>0.969274</td>\n",
              "      <td>0.755818</td>\n",
              "      <td>0.477349</td>\n",
              "      <td>0.749072</td>\n",
              "      <td>0.409417</td>\n",
              "    </tr>\n",
              "    <tr>\n",
              "      <th>e</th>\n",
              "      <td>0.408108</td>\n",
              "      <td>0.224584</td>\n",
              "      <td>0.913166</td>\n",
              "      <td>0.315248</td>\n",
              "      <td>0.633900</td>\n",
              "    </tr>\n",
              "  </tbody>\n",
              "</table>\n",
              "</div>"
            ],
            "text/plain": [
              "         c1        c2        c3        c4        c5\n",
              "a  0.948940  0.113859  0.291493  0.350138  0.662289\n",
              "b  0.383145  0.981683  0.566025  0.566981  0.044841\n",
              "c  0.664758  0.127719  0.824551  0.289920  0.366394\n",
              "d  0.969274  0.755818  0.477349  0.749072  0.409417\n",
              "e  0.408108  0.224584  0.913166  0.315248  0.633900"
            ]
          },
          "metadata": {
            "tags": []
          },
          "execution_count": 287
        }
      ]
    },
    {
      "cell_type": "code",
      "metadata": {
        "id": "48aDEimnd5IJ",
        "colab_type": "code",
        "outputId": "563e52c4-0bd3-4ef0-e247-2fe573cbc5e7",
        "colab": {
          "base_uri": "https://localhost:8080/",
          "height": 221
        }
      },
      "source": [
        "#display first and 3rd column\n",
        "df_slice = rnd_df[['c1', 'c3']]\n",
        "print('resulting slice:')\n",
        "df_slice"
      ],
      "execution_count": 0,
      "outputs": [
        {
          "output_type": "stream",
          "text": [
            "resulting slice:\n"
          ],
          "name": "stdout"
        },
        {
          "output_type": "execute_result",
          "data": {
            "text/html": [
              "<div>\n",
              "<style scoped>\n",
              "    .dataframe tbody tr th:only-of-type {\n",
              "        vertical-align: middle;\n",
              "    }\n",
              "\n",
              "    .dataframe tbody tr th {\n",
              "        vertical-align: top;\n",
              "    }\n",
              "\n",
              "    .dataframe thead th {\n",
              "        text-align: right;\n",
              "    }\n",
              "</style>\n",
              "<table border=\"1\" class=\"dataframe\">\n",
              "  <thead>\n",
              "    <tr style=\"text-align: right;\">\n",
              "      <th></th>\n",
              "      <th>c1</th>\n",
              "      <th>c3</th>\n",
              "    </tr>\n",
              "  </thead>\n",
              "  <tbody>\n",
              "    <tr>\n",
              "      <th>a</th>\n",
              "      <td>0.948940</td>\n",
              "      <td>0.291493</td>\n",
              "    </tr>\n",
              "    <tr>\n",
              "      <th>b</th>\n",
              "      <td>0.383145</td>\n",
              "      <td>0.566025</td>\n",
              "    </tr>\n",
              "    <tr>\n",
              "      <th>c</th>\n",
              "      <td>0.664758</td>\n",
              "      <td>0.824551</td>\n",
              "    </tr>\n",
              "    <tr>\n",
              "      <th>d</th>\n",
              "      <td>0.969274</td>\n",
              "      <td>0.477349</td>\n",
              "    </tr>\n",
              "    <tr>\n",
              "      <th>e</th>\n",
              "      <td>0.408108</td>\n",
              "      <td>0.913166</td>\n",
              "    </tr>\n",
              "  </tbody>\n",
              "</table>\n",
              "</div>"
            ],
            "text/plain": [
              "         c1        c3\n",
              "a  0.948940  0.291493\n",
              "b  0.383145  0.566025\n",
              "c  0.664758  0.824551\n",
              "d  0.969274  0.477349\n",
              "e  0.408108  0.913166"
            ]
          },
          "metadata": {
            "tags": []
          },
          "execution_count": 288
        }
      ]
    },
    {
      "cell_type": "code",
      "metadata": {
        "id": "Inrr2QQueRiS",
        "colab_type": "code",
        "outputId": "6e750f9e-951f-42d0-e379-c28a30a202b5",
        "colab": {
          "base_uri": "https://localhost:8080/",
          "height": 159
        }
      },
      "source": [
        "print('3x3 matrix in the center:')\n",
        "rnd_df.iloc[1:4, 1:4] \n",
        "#iloc works in the standard way a coordinate grid/matrix\n",
        "#would work with the diference you have to add +1 to the end coordinate so it gives\n",
        "#you the right coordinates given that it's of the form [start, end), in which end is not inclusive\n",
        "#hence [start,end] = [start, end+1)"
      ],
      "execution_count": 0,
      "outputs": [
        {
          "output_type": "stream",
          "text": [
            "3x3 matrix in the center:\n"
          ],
          "name": "stdout"
        },
        {
          "output_type": "execute_result",
          "data": {
            "text/html": [
              "<div>\n",
              "<style scoped>\n",
              "    .dataframe tbody tr th:only-of-type {\n",
              "        vertical-align: middle;\n",
              "    }\n",
              "\n",
              "    .dataframe tbody tr th {\n",
              "        vertical-align: top;\n",
              "    }\n",
              "\n",
              "    .dataframe thead th {\n",
              "        text-align: right;\n",
              "    }\n",
              "</style>\n",
              "<table border=\"1\" class=\"dataframe\">\n",
              "  <thead>\n",
              "    <tr style=\"text-align: right;\">\n",
              "      <th></th>\n",
              "      <th>c2</th>\n",
              "      <th>c3</th>\n",
              "      <th>c4</th>\n",
              "    </tr>\n",
              "  </thead>\n",
              "  <tbody>\n",
              "    <tr>\n",
              "      <th>b</th>\n",
              "      <td>0.981683</td>\n",
              "      <td>0.566025</td>\n",
              "      <td>0.566981</td>\n",
              "    </tr>\n",
              "    <tr>\n",
              "      <th>c</th>\n",
              "      <td>0.127719</td>\n",
              "      <td>0.824551</td>\n",
              "      <td>0.289920</td>\n",
              "    </tr>\n",
              "    <tr>\n",
              "      <th>d</th>\n",
              "      <td>0.755818</td>\n",
              "      <td>0.477349</td>\n",
              "      <td>0.749072</td>\n",
              "    </tr>\n",
              "  </tbody>\n",
              "</table>\n",
              "</div>"
            ],
            "text/plain": [
              "         c2        c3        c4\n",
              "b  0.981683  0.566025  0.566981\n",
              "c  0.127719  0.824551  0.289920\n",
              "d  0.755818  0.477349  0.749072"
            ]
          },
          "metadata": {
            "tags": []
          },
          "execution_count": 289
        }
      ]
    },
    {
      "cell_type": "code",
      "metadata": {
        "id": "ZLziWFZZe41f",
        "colab_type": "code",
        "outputId": "f879ebaf-e9ad-4c59-ba14-ee2538580b2b",
        "colab": {
          "base_uri": "https://localhost:8080/",
          "height": 142
        }
      },
      "source": [
        "# for me to use loc, from Prof's tutorial\n",
        "# as seen in here, the difference is that I used the string label in the dataframe\n",
        "# to slice through it, given that these are variable rather than index location as\n",
        "# above\n",
        "rnd_df.loc['b':'d', 'c2':'c4']"
      ],
      "execution_count": 0,
      "outputs": [
        {
          "output_type": "execute_result",
          "data": {
            "text/html": [
              "<div>\n",
              "<style scoped>\n",
              "    .dataframe tbody tr th:only-of-type {\n",
              "        vertical-align: middle;\n",
              "    }\n",
              "\n",
              "    .dataframe tbody tr th {\n",
              "        vertical-align: top;\n",
              "    }\n",
              "\n",
              "    .dataframe thead th {\n",
              "        text-align: right;\n",
              "    }\n",
              "</style>\n",
              "<table border=\"1\" class=\"dataframe\">\n",
              "  <thead>\n",
              "    <tr style=\"text-align: right;\">\n",
              "      <th></th>\n",
              "      <th>c2</th>\n",
              "      <th>c3</th>\n",
              "      <th>c4</th>\n",
              "    </tr>\n",
              "  </thead>\n",
              "  <tbody>\n",
              "    <tr>\n",
              "      <th>b</th>\n",
              "      <td>0.981683</td>\n",
              "      <td>0.566025</td>\n",
              "      <td>0.566981</td>\n",
              "    </tr>\n",
              "    <tr>\n",
              "      <th>c</th>\n",
              "      <td>0.127719</td>\n",
              "      <td>0.824551</td>\n",
              "      <td>0.289920</td>\n",
              "    </tr>\n",
              "    <tr>\n",
              "      <th>d</th>\n",
              "      <td>0.755818</td>\n",
              "      <td>0.477349</td>\n",
              "      <td>0.749072</td>\n",
              "    </tr>\n",
              "  </tbody>\n",
              "</table>\n",
              "</div>"
            ],
            "text/plain": [
              "         c2        c3        c4\n",
              "b  0.981683  0.566025  0.566981\n",
              "c  0.127719  0.824551  0.289920\n",
              "d  0.755818  0.477349  0.749072"
            ]
          },
          "metadata": {
            "tags": []
          },
          "execution_count": 290
        }
      ]
    },
    {
      "cell_type": "code",
      "metadata": {
        "id": "UitynVKaf2_T",
        "colab_type": "code",
        "outputId": "41f91b85-7af9-4670-ac25-6e74825762d0",
        "colab": {
          "base_uri": "https://localhost:8080/",
          "height": 204
        }
      },
      "source": [
        "rnd_df['c6'] = rnd_df['c1'] - rnd_df['c2']\n",
        "\n",
        "rnd_df"
      ],
      "execution_count": 0,
      "outputs": [
        {
          "output_type": "execute_result",
          "data": {
            "text/html": [
              "<div>\n",
              "<style scoped>\n",
              "    .dataframe tbody tr th:only-of-type {\n",
              "        vertical-align: middle;\n",
              "    }\n",
              "\n",
              "    .dataframe tbody tr th {\n",
              "        vertical-align: top;\n",
              "    }\n",
              "\n",
              "    .dataframe thead th {\n",
              "        text-align: right;\n",
              "    }\n",
              "</style>\n",
              "<table border=\"1\" class=\"dataframe\">\n",
              "  <thead>\n",
              "    <tr style=\"text-align: right;\">\n",
              "      <th></th>\n",
              "      <th>c1</th>\n",
              "      <th>c2</th>\n",
              "      <th>c3</th>\n",
              "      <th>c4</th>\n",
              "      <th>c5</th>\n",
              "      <th>c6</th>\n",
              "    </tr>\n",
              "  </thead>\n",
              "  <tbody>\n",
              "    <tr>\n",
              "      <th>a</th>\n",
              "      <td>0.948940</td>\n",
              "      <td>0.113859</td>\n",
              "      <td>0.291493</td>\n",
              "      <td>0.350138</td>\n",
              "      <td>0.662289</td>\n",
              "      <td>0.835081</td>\n",
              "    </tr>\n",
              "    <tr>\n",
              "      <th>b</th>\n",
              "      <td>0.383145</td>\n",
              "      <td>0.981683</td>\n",
              "      <td>0.566025</td>\n",
              "      <td>0.566981</td>\n",
              "      <td>0.044841</td>\n",
              "      <td>-0.598538</td>\n",
              "    </tr>\n",
              "    <tr>\n",
              "      <th>c</th>\n",
              "      <td>0.664758</td>\n",
              "      <td>0.127719</td>\n",
              "      <td>0.824551</td>\n",
              "      <td>0.289920</td>\n",
              "      <td>0.366394</td>\n",
              "      <td>0.537039</td>\n",
              "    </tr>\n",
              "    <tr>\n",
              "      <th>d</th>\n",
              "      <td>0.969274</td>\n",
              "      <td>0.755818</td>\n",
              "      <td>0.477349</td>\n",
              "      <td>0.749072</td>\n",
              "      <td>0.409417</td>\n",
              "      <td>0.213456</td>\n",
              "    </tr>\n",
              "    <tr>\n",
              "      <th>e</th>\n",
              "      <td>0.408108</td>\n",
              "      <td>0.224584</td>\n",
              "      <td>0.913166</td>\n",
              "      <td>0.315248</td>\n",
              "      <td>0.633900</td>\n",
              "      <td>0.183524</td>\n",
              "    </tr>\n",
              "  </tbody>\n",
              "</table>\n",
              "</div>"
            ],
            "text/plain": [
              "         c1        c2        c3        c4        c5        c6\n",
              "a  0.948940  0.113859  0.291493  0.350138  0.662289  0.835081\n",
              "b  0.383145  0.981683  0.566025  0.566981  0.044841 -0.598538\n",
              "c  0.664758  0.127719  0.824551  0.289920  0.366394  0.537039\n",
              "d  0.969274  0.755818  0.477349  0.749072  0.409417  0.213456\n",
              "e  0.408108  0.224584  0.913166  0.315248  0.633900  0.183524"
            ]
          },
          "metadata": {
            "tags": []
          },
          "execution_count": 291
        }
      ]
    },
    {
      "cell_type": "code",
      "metadata": {
        "id": "k1TX4wyxgtNP",
        "colab_type": "code",
        "outputId": "783bde07-5e60-4a49-8759-30af71ec7dab",
        "colab": {
          "base_uri": "https://localhost:8080/",
          "height": 204
        }
      },
      "source": [
        "rnd_df['c7'] = rnd_df['c3'] - rnd_df['c4'] - rnd_df['c5']\n",
        "\n",
        "rnd_df"
      ],
      "execution_count": 0,
      "outputs": [
        {
          "output_type": "execute_result",
          "data": {
            "text/html": [
              "<div>\n",
              "<style scoped>\n",
              "    .dataframe tbody tr th:only-of-type {\n",
              "        vertical-align: middle;\n",
              "    }\n",
              "\n",
              "    .dataframe tbody tr th {\n",
              "        vertical-align: top;\n",
              "    }\n",
              "\n",
              "    .dataframe thead th {\n",
              "        text-align: right;\n",
              "    }\n",
              "</style>\n",
              "<table border=\"1\" class=\"dataframe\">\n",
              "  <thead>\n",
              "    <tr style=\"text-align: right;\">\n",
              "      <th></th>\n",
              "      <th>c1</th>\n",
              "      <th>c2</th>\n",
              "      <th>c3</th>\n",
              "      <th>c4</th>\n",
              "      <th>c5</th>\n",
              "      <th>c6</th>\n",
              "      <th>c7</th>\n",
              "    </tr>\n",
              "  </thead>\n",
              "  <tbody>\n",
              "    <tr>\n",
              "      <th>a</th>\n",
              "      <td>0.948940</td>\n",
              "      <td>0.113859</td>\n",
              "      <td>0.291493</td>\n",
              "      <td>0.350138</td>\n",
              "      <td>0.662289</td>\n",
              "      <td>0.835081</td>\n",
              "      <td>-0.720934</td>\n",
              "    </tr>\n",
              "    <tr>\n",
              "      <th>b</th>\n",
              "      <td>0.383145</td>\n",
              "      <td>0.981683</td>\n",
              "      <td>0.566025</td>\n",
              "      <td>0.566981</td>\n",
              "      <td>0.044841</td>\n",
              "      <td>-0.598538</td>\n",
              "      <td>-0.045797</td>\n",
              "    </tr>\n",
              "    <tr>\n",
              "      <th>c</th>\n",
              "      <td>0.664758</td>\n",
              "      <td>0.127719</td>\n",
              "      <td>0.824551</td>\n",
              "      <td>0.289920</td>\n",
              "      <td>0.366394</td>\n",
              "      <td>0.537039</td>\n",
              "      <td>0.168238</td>\n",
              "    </tr>\n",
              "    <tr>\n",
              "      <th>d</th>\n",
              "      <td>0.969274</td>\n",
              "      <td>0.755818</td>\n",
              "      <td>0.477349</td>\n",
              "      <td>0.749072</td>\n",
              "      <td>0.409417</td>\n",
              "      <td>0.213456</td>\n",
              "      <td>-0.681140</td>\n",
              "    </tr>\n",
              "    <tr>\n",
              "      <th>e</th>\n",
              "      <td>0.408108</td>\n",
              "      <td>0.224584</td>\n",
              "      <td>0.913166</td>\n",
              "      <td>0.315248</td>\n",
              "      <td>0.633900</td>\n",
              "      <td>0.183524</td>\n",
              "      <td>-0.035982</td>\n",
              "    </tr>\n",
              "  </tbody>\n",
              "</table>\n",
              "</div>"
            ],
            "text/plain": [
              "         c1        c2        c3        c4        c5        c6        c7\n",
              "a  0.948940  0.113859  0.291493  0.350138  0.662289  0.835081 -0.720934\n",
              "b  0.383145  0.981683  0.566025  0.566981  0.044841 -0.598538 -0.045797\n",
              "c  0.664758  0.127719  0.824551  0.289920  0.366394  0.537039  0.168238\n",
              "d  0.969274  0.755818  0.477349  0.749072  0.409417  0.213456 -0.681140\n",
              "e  0.408108  0.224584  0.913166  0.315248  0.633900  0.183524 -0.035982"
            ]
          },
          "metadata": {
            "tags": []
          },
          "execution_count": 292
        }
      ]
    },
    {
      "cell_type": "code",
      "metadata": {
        "id": "MXld1tXdg1oF",
        "colab_type": "code",
        "outputId": "6b8de025-3dc2-4594-dd3a-ffc2fe4e455a",
        "colab": {
          "base_uri": "https://localhost:8080/",
          "height": 204
        }
      },
      "source": [
        "#replace values in data frame that are negative in c6 and c7 \n",
        "\n",
        "rnd_df['c6'][rnd_df['c6'] < 0] = np.nan\n",
        "rnd_df['c7'][rnd_df['c7'] < 0] = np.nan\n",
        "\n",
        "rnd_df"
      ],
      "execution_count": 0,
      "outputs": [
        {
          "output_type": "execute_result",
          "data": {
            "text/html": [
              "<div>\n",
              "<style scoped>\n",
              "    .dataframe tbody tr th:only-of-type {\n",
              "        vertical-align: middle;\n",
              "    }\n",
              "\n",
              "    .dataframe tbody tr th {\n",
              "        vertical-align: top;\n",
              "    }\n",
              "\n",
              "    .dataframe thead th {\n",
              "        text-align: right;\n",
              "    }\n",
              "</style>\n",
              "<table border=\"1\" class=\"dataframe\">\n",
              "  <thead>\n",
              "    <tr style=\"text-align: right;\">\n",
              "      <th></th>\n",
              "      <th>c1</th>\n",
              "      <th>c2</th>\n",
              "      <th>c3</th>\n",
              "      <th>c4</th>\n",
              "      <th>c5</th>\n",
              "      <th>c6</th>\n",
              "      <th>c7</th>\n",
              "    </tr>\n",
              "  </thead>\n",
              "  <tbody>\n",
              "    <tr>\n",
              "      <th>a</th>\n",
              "      <td>0.948940</td>\n",
              "      <td>0.113859</td>\n",
              "      <td>0.291493</td>\n",
              "      <td>0.350138</td>\n",
              "      <td>0.662289</td>\n",
              "      <td>0.835081</td>\n",
              "      <td>NaN</td>\n",
              "    </tr>\n",
              "    <tr>\n",
              "      <th>b</th>\n",
              "      <td>0.383145</td>\n",
              "      <td>0.981683</td>\n",
              "      <td>0.566025</td>\n",
              "      <td>0.566981</td>\n",
              "      <td>0.044841</td>\n",
              "      <td>NaN</td>\n",
              "      <td>NaN</td>\n",
              "    </tr>\n",
              "    <tr>\n",
              "      <th>c</th>\n",
              "      <td>0.664758</td>\n",
              "      <td>0.127719</td>\n",
              "      <td>0.824551</td>\n",
              "      <td>0.289920</td>\n",
              "      <td>0.366394</td>\n",
              "      <td>0.537039</td>\n",
              "      <td>0.168238</td>\n",
              "    </tr>\n",
              "    <tr>\n",
              "      <th>d</th>\n",
              "      <td>0.969274</td>\n",
              "      <td>0.755818</td>\n",
              "      <td>0.477349</td>\n",
              "      <td>0.749072</td>\n",
              "      <td>0.409417</td>\n",
              "      <td>0.213456</td>\n",
              "      <td>NaN</td>\n",
              "    </tr>\n",
              "    <tr>\n",
              "      <th>e</th>\n",
              "      <td>0.408108</td>\n",
              "      <td>0.224584</td>\n",
              "      <td>0.913166</td>\n",
              "      <td>0.315248</td>\n",
              "      <td>0.633900</td>\n",
              "      <td>0.183524</td>\n",
              "      <td>NaN</td>\n",
              "    </tr>\n",
              "  </tbody>\n",
              "</table>\n",
              "</div>"
            ],
            "text/plain": [
              "         c1        c2        c3        c4        c5        c6        c7\n",
              "a  0.948940  0.113859  0.291493  0.350138  0.662289  0.835081       NaN\n",
              "b  0.383145  0.981683  0.566025  0.566981  0.044841       NaN       NaN\n",
              "c  0.664758  0.127719  0.824551  0.289920  0.366394  0.537039  0.168238\n",
              "d  0.969274  0.755818  0.477349  0.749072  0.409417  0.213456       NaN\n",
              "e  0.408108  0.224584  0.913166  0.315248  0.633900  0.183524       NaN"
            ]
          },
          "metadata": {
            "tags": []
          },
          "execution_count": 293
        }
      ]
    },
    {
      "cell_type": "code",
      "metadata": {
        "id": "e_RdDyYQi5ec",
        "colab_type": "code",
        "outputId": "f9e69bf1-2737-4d83-8527-70dc6dc9594f",
        "colab": {
          "base_uri": "https://localhost:8080/",
          "height": 204
        }
      },
      "source": [
        "#rnd_df['c6'][rnd_df['c6'] == np.nan] = np.mean(rnd_df['c6'])\n",
        "#rnd_df['c7'][rnd_df['c7'] == np.nan] = np.mean(rnd_df['c7'])\n",
        "# source :\n",
        "# https://stackoverflow.com/questions/13295735/how-can-i-replace-all-the-nan-values-with-zeros-in-a-column-of-a-pandas-datafram\n",
        "\n",
        "rnd_df['c6'] = rnd_df['c6'].replace(np.nan, np.mean(np.mean(rnd_df)))\n",
        "rnd_df['c7'] = rnd_df['c7'].replace(np.nan, np.mean(np.mean(rnd_df)))\n",
        "rnd_df"
      ],
      "execution_count": 0,
      "outputs": [
        {
          "output_type": "execute_result",
          "data": {
            "text/html": [
              "<div>\n",
              "<style scoped>\n",
              "    .dataframe tbody tr th:only-of-type {\n",
              "        vertical-align: middle;\n",
              "    }\n",
              "\n",
              "    .dataframe tbody tr th {\n",
              "        vertical-align: top;\n",
              "    }\n",
              "\n",
              "    .dataframe thead th {\n",
              "        text-align: right;\n",
              "    }\n",
              "</style>\n",
              "<table border=\"1\" class=\"dataframe\">\n",
              "  <thead>\n",
              "    <tr style=\"text-align: right;\">\n",
              "      <th></th>\n",
              "      <th>c1</th>\n",
              "      <th>c2</th>\n",
              "      <th>c3</th>\n",
              "      <th>c4</th>\n",
              "      <th>c5</th>\n",
              "      <th>c6</th>\n",
              "      <th>c7</th>\n",
              "    </tr>\n",
              "  </thead>\n",
              "  <tbody>\n",
              "    <tr>\n",
              "      <th>a</th>\n",
              "      <td>0.948940</td>\n",
              "      <td>0.113859</td>\n",
              "      <td>0.291493</td>\n",
              "      <td>0.350138</td>\n",
              "      <td>0.662289</td>\n",
              "      <td>0.835081</td>\n",
              "      <td>0.460249</td>\n",
              "    </tr>\n",
              "    <tr>\n",
              "      <th>b</th>\n",
              "      <td>0.383145</td>\n",
              "      <td>0.981683</td>\n",
              "      <td>0.566025</td>\n",
              "      <td>0.566981</td>\n",
              "      <td>0.044841</td>\n",
              "      <td>0.459750</td>\n",
              "      <td>0.460249</td>\n",
              "    </tr>\n",
              "    <tr>\n",
              "      <th>c</th>\n",
              "      <td>0.664758</td>\n",
              "      <td>0.127719</td>\n",
              "      <td>0.824551</td>\n",
              "      <td>0.289920</td>\n",
              "      <td>0.366394</td>\n",
              "      <td>0.537039</td>\n",
              "      <td>0.168238</td>\n",
              "    </tr>\n",
              "    <tr>\n",
              "      <th>d</th>\n",
              "      <td>0.969274</td>\n",
              "      <td>0.755818</td>\n",
              "      <td>0.477349</td>\n",
              "      <td>0.749072</td>\n",
              "      <td>0.409417</td>\n",
              "      <td>0.213456</td>\n",
              "      <td>0.460249</td>\n",
              "    </tr>\n",
              "    <tr>\n",
              "      <th>e</th>\n",
              "      <td>0.408108</td>\n",
              "      <td>0.224584</td>\n",
              "      <td>0.913166</td>\n",
              "      <td>0.315248</td>\n",
              "      <td>0.633900</td>\n",
              "      <td>0.183524</td>\n",
              "      <td>0.460249</td>\n",
              "    </tr>\n",
              "  </tbody>\n",
              "</table>\n",
              "</div>"
            ],
            "text/plain": [
              "         c1        c2        c3        c4        c5        c6        c7\n",
              "a  0.948940  0.113859  0.291493  0.350138  0.662289  0.835081  0.460249\n",
              "b  0.383145  0.981683  0.566025  0.566981  0.044841  0.459750  0.460249\n",
              "c  0.664758  0.127719  0.824551  0.289920  0.366394  0.537039  0.168238\n",
              "d  0.969274  0.755818  0.477349  0.749072  0.409417  0.213456  0.460249\n",
              "e  0.408108  0.224584  0.913166  0.315248  0.633900  0.183524  0.460249"
            ]
          },
          "metadata": {
            "tags": []
          },
          "execution_count": 297
        }
      ]
    }
  ]
}