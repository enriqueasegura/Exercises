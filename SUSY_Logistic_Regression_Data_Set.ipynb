{
  "nbformat": 4,
  "nbformat_minor": 0,
  "metadata": {
    "colab": {
      "name": "SUSY Logistic Regression Data Set.ipynb",
      "provenance": [],
      "toc_visible": true,
      "authorship_tag": "ABX9TyNicn3w5hUxxS5kovsc/EWh",
      "include_colab_link": true
    },
    "kernelspec": {
      "name": "python3",
      "display_name": "Python 3"
    }
  },
  "cells": [
    {
      "cell_type": "markdown",
      "metadata": {
        "id": "view-in-github",
        "colab_type": "text"
      },
      "source": [
        "<a href=\"https://colab.research.google.com/github/enriqueasegura/Exercises/blob/master/SUSY_Logistic_Regression_Data_Set.ipynb\" target=\"_parent\"><img src=\"https://colab.research.google.com/assets/colab-badge.svg\" alt=\"Open In Colab\"/></a>"
      ]
    },
    {
      "cell_type": "markdown",
      "metadata": {
        "id": "Hxo71gQUjYLE",
        "colab_type": "text"
      },
      "source": [
        "#Notebook's Goal\n",
        "\n",
        "We will use a data from a science or engineering field, in this case \n",
        "SUSY Data Set,  and apply machine learning methods (regression, decision tress, xgboost, neural networks) to analyze the data.\n",
        "\n",
        "In this notebook we have chosen logistic regression as the machine learning method to analyze the SUSY data as a proof of concept with a relatively straight-forward algorithm. \n",
        "\n",
        "Then we apply a Multi-layer Perceptron (MLP), a supervised learning algorithm, to this dataset. Doing so we can compare these two algorithms and see if one of them performs better in accurately classifying inputs. "
      ]
    },
    {
      "cell_type": "code",
      "metadata": {
        "id": "UulJFPGwXZ2d",
        "colab_type": "code",
        "colab": {}
      },
      "source": [
        "import numpy as np \n",
        "import matplotlib.pyplot as plt\n",
        "%matplotlib inline\n",
        "from google.colab import files\n",
        "import pandas as pd\n",
        "import scipy as sci \n",
        "\n",
        "import matplotlib\n",
        "from matplotlib import rc\n",
        "\n",
        "from sklearn.metrics import accuracy_score\n",
        "from matplotlib.pyplot import imshow\n",
        "\n",
        "from __future__ import division  # floating point division\n",
        "\n",
        "from __future__ import absolute_import\n",
        "from __future__ import division\n",
        "from __future__ import print_function \n",
        "\n",
        "from sklearn import metrics\n",
        "from sklearn import preprocessing \n",
        "import tensorflow as tf\n",
        "#from tensorflow.contrib import learn from tensorflow.contrib import learn import pandas as pd"
      ],
      "execution_count": 0,
      "outputs": []
    },
    {
      "cell_type": "markdown",
      "metadata": {
        "id": "-gkH8MTZPegT",
        "colab_type": "text"
      },
      "source": [
        "#Machine Learning Part\n",
        "\n",
        "Our task is use logistic regression to separate the signal events from the background events.\n",
        "\n",
        "The signal events are labeled with 1 while the background sample are labeled with 0. This can be found in the first column.\n"
      ]
    },
    {
      "cell_type": "markdown",
      "metadata": {
        "id": "P88mW5M4bddm",
        "colab_type": "text"
      },
      "source": [
        "#Attribute Information:\n",
        "\n",
        "The first column is the class label (1 for signal, 0 for background), followed by the 18 features (8 low-level features then 10 high-level features). \n",
        "\n",
        "low-level features:\n",
        "\n",
        "0. class label (1 for signal, 0 for background)\n",
        "1. lepton 1 pT \n",
        "2. lepton 1 eta\n",
        "3. lepton 1 phi\n",
        "4. lepton 2 pT\n",
        "5. lepton 2 eta\n",
        "6. lepton 2 phi\n",
        "7. missing energy magnitude\n",
        "8. missing energy phi\n",
        "\n",
        "High level-features:\n",
        "\n",
        "9. MET_rel,\n",
        "10. axial MET\n",
        "11. M_R\n",
        "12. M_TR_2\n",
        "13. R\n",
        "14. MT2\n",
        "15. S_R\n",
        "16. M_Delta_R\n",
        "17. dPhi_r_b,\n",
        "18. cos(theta_r1). \n",
        "\n",
        "For detailed information about each feature see the original [paper](https://arxiv.org/pdf/1402.4735.pdf).\n",
        "\n"
      ]
    },
    {
      "cell_type": "code",
      "metadata": {
        "id": "xXSAK-PFMtQk",
        "colab_type": "code",
        "outputId": "3c37048b-f6a9-4c40-8c63-23782f2b6808",
        "colab": {
          "base_uri": "https://localhost:8080/",
          "height": 340
        }
      },
      "source": [
        "cols_names = [\"Signal/Background\",\n",
        "              \"lepton 1 pT\",\n",
        "              \"lepton 1 eta\",\n",
        "              \"lepton 1 phi\",\n",
        "              \"lepton 2 pT\",\n",
        "              \"lepton 2 eta\",\n",
        "              \"lepton 2 phi\",\n",
        "              \"missing energy magnitude\",\n",
        "              \"missing energy phi\",\n",
        "              \"MET_rel\", \n",
        "              \"axial MET\",\n",
        "              \"M_R\",\n",
        "              \"M_TR_2\",\n",
        "              \"R\",\n",
        "              \"MT2\",\n",
        "              \"S_R\",\n",
        "              \"M_Delta_R\",\n",
        "              \"dPhi_r_b\",\n",
        "              \"cos(theta_r1)\"]\n",
        "\n",
        "cols_names"
      ],
      "execution_count": 2,
      "outputs": [
        {
          "output_type": "execute_result",
          "data": {
            "text/plain": [
              "['Signal/Background',\n",
              " 'lepton 1 pT',\n",
              " 'lepton 1 eta',\n",
              " 'lepton 1 phi',\n",
              " 'lepton 2 pT',\n",
              " 'lepton 2 eta',\n",
              " 'lepton 2 phi',\n",
              " 'missing energy magnitude',\n",
              " 'missing energy phi',\n",
              " 'MET_rel',\n",
              " 'axial MET',\n",
              " 'M_R',\n",
              " 'M_TR_2',\n",
              " 'R',\n",
              " 'MT2',\n",
              " 'S_R',\n",
              " 'M_Delta_R',\n",
              " 'dPhi_r_b',\n",
              " 'cos(theta_r1)']"
            ]
          },
          "metadata": {
            "tags": []
          },
          "execution_count": 2
        }
      ]
    },
    {
      "cell_type": "markdown",
      "metadata": {
        "id": "BuNweypLP4E5",
        "colab_type": "text"
      },
      "source": [
        "# Some Notes to keep in mind \n",
        "\n",
        "Given $N$ data points and $M$ features, you want to create one $N \\times M$ matrix $X$ (your design/feature matrix), and one $N \\times 1$ vector (you label vector)\n",
        "\n",
        "1. Feature matrix $X$ and label vector $y$.\n",
        "2. Feed $X$ and $y$ into some classifier from sklearn.\n",
        "\n",
        "Key point: \n",
        "\n",
        "1. Shuffle data so there are adjacent rows are not correlated. \n",
        "2. Split the data into training/testing sets (usually 80/20 split).\n"
      ]
    },
    {
      "cell_type": "code",
      "metadata": {
        "id": "damvgUDYbO0Z",
        "colab_type": "code",
        "colab": {}
      },
      "source": [
        "#we query UCI's archive to obtain the data set.\n",
        "\n",
        "data = pd.read_csv('https://archive.ics.uci.edu/ml/machine-learning-databases/00279/SUSY.csv.gz', compression='gzip',\n",
        "                   error_bad_lines=False, header=None)"
      ],
      "execution_count": 0,
      "outputs": []
    },
    {
      "cell_type": "code",
      "metadata": {
        "id": "qY6H_T5Xicy_",
        "colab_type": "code",
        "outputId": "d35ec436-6d3a-4f6e-99f2-4be90d25ff86",
        "colab": {
          "base_uri": "https://localhost:8080/",
          "height": 34
        }
      },
      "source": [
        "print('Complete, unseparated data set:')"
      ],
      "execution_count": 4,
      "outputs": [
        {
          "output_type": "stream",
          "text": [
            "Complete, unseparated data set:\n"
          ],
          "name": "stdout"
        }
      ]
    },
    {
      "cell_type": "code",
      "metadata": {
        "id": "pCEqdNzqPPIs",
        "colab_type": "code",
        "outputId": "e288ef97-ed2f-4fd4-ce39-208a65bfe5f0",
        "colab": {
          "base_uri": "https://localhost:8080/",
          "height": 419
        }
      },
      "source": [
        "data"
      ],
      "execution_count": 5,
      "outputs": [
        {
          "output_type": "execute_result",
          "data": {
            "text/html": [
              "<div>\n",
              "<style scoped>\n",
              "    .dataframe tbody tr th:only-of-type {\n",
              "        vertical-align: middle;\n",
              "    }\n",
              "\n",
              "    .dataframe tbody tr th {\n",
              "        vertical-align: top;\n",
              "    }\n",
              "\n",
              "    .dataframe thead th {\n",
              "        text-align: right;\n",
              "    }\n",
              "</style>\n",
              "<table border=\"1\" class=\"dataframe\">\n",
              "  <thead>\n",
              "    <tr style=\"text-align: right;\">\n",
              "      <th></th>\n",
              "      <th>0</th>\n",
              "      <th>1</th>\n",
              "      <th>2</th>\n",
              "      <th>3</th>\n",
              "      <th>4</th>\n",
              "      <th>5</th>\n",
              "      <th>6</th>\n",
              "      <th>7</th>\n",
              "      <th>8</th>\n",
              "      <th>9</th>\n",
              "      <th>10</th>\n",
              "      <th>11</th>\n",
              "      <th>12</th>\n",
              "      <th>13</th>\n",
              "      <th>14</th>\n",
              "      <th>15</th>\n",
              "      <th>16</th>\n",
              "      <th>17</th>\n",
              "      <th>18</th>\n",
              "    </tr>\n",
              "  </thead>\n",
              "  <tbody>\n",
              "    <tr>\n",
              "      <th>0</th>\n",
              "      <td>0.0</td>\n",
              "      <td>0.972861</td>\n",
              "      <td>0.653855</td>\n",
              "      <td>1.176225</td>\n",
              "      <td>1.157156</td>\n",
              "      <td>-1.739873</td>\n",
              "      <td>-0.874309</td>\n",
              "      <td>0.567765</td>\n",
              "      <td>-0.175000</td>\n",
              "      <td>0.810061</td>\n",
              "      <td>-0.252552</td>\n",
              "      <td>1.921887</td>\n",
              "      <td>0.889637</td>\n",
              "      <td>0.410772</td>\n",
              "      <td>1.145621</td>\n",
              "      <td>1.932632</td>\n",
              "      <td>0.994464</td>\n",
              "      <td>1.367815</td>\n",
              "      <td>0.040714</td>\n",
              "    </tr>\n",
              "    <tr>\n",
              "      <th>1</th>\n",
              "      <td>1.0</td>\n",
              "      <td>1.667973</td>\n",
              "      <td>0.064191</td>\n",
              "      <td>-1.225171</td>\n",
              "      <td>0.506102</td>\n",
              "      <td>-0.338939</td>\n",
              "      <td>1.672543</td>\n",
              "      <td>3.475464</td>\n",
              "      <td>-1.219136</td>\n",
              "      <td>0.012955</td>\n",
              "      <td>3.775174</td>\n",
              "      <td>1.045977</td>\n",
              "      <td>0.568051</td>\n",
              "      <td>0.481928</td>\n",
              "      <td>0.000000</td>\n",
              "      <td>0.448410</td>\n",
              "      <td>0.205356</td>\n",
              "      <td>1.321893</td>\n",
              "      <td>0.377584</td>\n",
              "    </tr>\n",
              "    <tr>\n",
              "      <th>2</th>\n",
              "      <td>1.0</td>\n",
              "      <td>0.444840</td>\n",
              "      <td>-0.134298</td>\n",
              "      <td>-0.709972</td>\n",
              "      <td>0.451719</td>\n",
              "      <td>-1.613871</td>\n",
              "      <td>-0.768661</td>\n",
              "      <td>1.219918</td>\n",
              "      <td>0.504026</td>\n",
              "      <td>1.831248</td>\n",
              "      <td>-0.431385</td>\n",
              "      <td>0.526283</td>\n",
              "      <td>0.941514</td>\n",
              "      <td>1.587535</td>\n",
              "      <td>2.024308</td>\n",
              "      <td>0.603498</td>\n",
              "      <td>1.562374</td>\n",
              "      <td>1.135454</td>\n",
              "      <td>0.180910</td>\n",
              "    </tr>\n",
              "    <tr>\n",
              "      <th>3</th>\n",
              "      <td>1.0</td>\n",
              "      <td>0.381256</td>\n",
              "      <td>-0.976145</td>\n",
              "      <td>0.693152</td>\n",
              "      <td>0.448959</td>\n",
              "      <td>0.891753</td>\n",
              "      <td>-0.677328</td>\n",
              "      <td>2.033060</td>\n",
              "      <td>1.533041</td>\n",
              "      <td>3.046260</td>\n",
              "      <td>-1.005285</td>\n",
              "      <td>0.569386</td>\n",
              "      <td>1.015211</td>\n",
              "      <td>1.582217</td>\n",
              "      <td>1.551914</td>\n",
              "      <td>0.761215</td>\n",
              "      <td>1.715464</td>\n",
              "      <td>1.492257</td>\n",
              "      <td>0.090719</td>\n",
              "    </tr>\n",
              "    <tr>\n",
              "      <th>4</th>\n",
              "      <td>1.0</td>\n",
              "      <td>1.309996</td>\n",
              "      <td>-0.690089</td>\n",
              "      <td>-0.676259</td>\n",
              "      <td>1.589283</td>\n",
              "      <td>-0.693326</td>\n",
              "      <td>0.622907</td>\n",
              "      <td>1.087562</td>\n",
              "      <td>-0.381742</td>\n",
              "      <td>0.589204</td>\n",
              "      <td>1.365479</td>\n",
              "      <td>1.179295</td>\n",
              "      <td>0.968218</td>\n",
              "      <td>0.728563</td>\n",
              "      <td>0.000000</td>\n",
              "      <td>1.083158</td>\n",
              "      <td>0.043429</td>\n",
              "      <td>1.154854</td>\n",
              "      <td>0.094859</td>\n",
              "    </tr>\n",
              "    <tr>\n",
              "      <th>...</th>\n",
              "      <td>...</td>\n",
              "      <td>...</td>\n",
              "      <td>...</td>\n",
              "      <td>...</td>\n",
              "      <td>...</td>\n",
              "      <td>...</td>\n",
              "      <td>...</td>\n",
              "      <td>...</td>\n",
              "      <td>...</td>\n",
              "      <td>...</td>\n",
              "      <td>...</td>\n",
              "      <td>...</td>\n",
              "      <td>...</td>\n",
              "      <td>...</td>\n",
              "      <td>...</td>\n",
              "      <td>...</td>\n",
              "      <td>...</td>\n",
              "      <td>...</td>\n",
              "      <td>...</td>\n",
              "    </tr>\n",
              "    <tr>\n",
              "      <th>4999995</th>\n",
              "      <td>1.0</td>\n",
              "      <td>0.853325</td>\n",
              "      <td>-0.961783</td>\n",
              "      <td>-1.487277</td>\n",
              "      <td>0.678190</td>\n",
              "      <td>0.493580</td>\n",
              "      <td>1.647969</td>\n",
              "      <td>1.843867</td>\n",
              "      <td>0.276954</td>\n",
              "      <td>1.025105</td>\n",
              "      <td>-1.486535</td>\n",
              "      <td>0.892879</td>\n",
              "      <td>1.684429</td>\n",
              "      <td>1.674084</td>\n",
              "      <td>3.366298</td>\n",
              "      <td>1.046707</td>\n",
              "      <td>2.646649</td>\n",
              "      <td>1.389226</td>\n",
              "      <td>0.364599</td>\n",
              "    </tr>\n",
              "    <tr>\n",
              "      <th>4999996</th>\n",
              "      <td>0.0</td>\n",
              "      <td>0.951581</td>\n",
              "      <td>0.139370</td>\n",
              "      <td>1.436884</td>\n",
              "      <td>0.880440</td>\n",
              "      <td>-0.351948</td>\n",
              "      <td>-0.740852</td>\n",
              "      <td>0.290863</td>\n",
              "      <td>-0.732360</td>\n",
              "      <td>0.001360</td>\n",
              "      <td>0.257738</td>\n",
              "      <td>0.802871</td>\n",
              "      <td>0.545319</td>\n",
              "      <td>0.602730</td>\n",
              "      <td>0.002998</td>\n",
              "      <td>0.748959</td>\n",
              "      <td>0.401166</td>\n",
              "      <td>0.443471</td>\n",
              "      <td>0.239953</td>\n",
              "    </tr>\n",
              "    <tr>\n",
              "      <th>4999997</th>\n",
              "      <td>0.0</td>\n",
              "      <td>0.840389</td>\n",
              "      <td>1.419162</td>\n",
              "      <td>-1.218766</td>\n",
              "      <td>1.195631</td>\n",
              "      <td>1.695645</td>\n",
              "      <td>0.663756</td>\n",
              "      <td>0.490888</td>\n",
              "      <td>-0.509186</td>\n",
              "      <td>0.704289</td>\n",
              "      <td>0.045744</td>\n",
              "      <td>0.825015</td>\n",
              "      <td>0.723530</td>\n",
              "      <td>0.778236</td>\n",
              "      <td>0.752942</td>\n",
              "      <td>0.838953</td>\n",
              "      <td>0.614048</td>\n",
              "      <td>1.210595</td>\n",
              "      <td>0.026692</td>\n",
              "    </tr>\n",
              "    <tr>\n",
              "      <th>4999998</th>\n",
              "      <td>1.0</td>\n",
              "      <td>1.784218</td>\n",
              "      <td>-0.833565</td>\n",
              "      <td>-0.560091</td>\n",
              "      <td>0.953342</td>\n",
              "      <td>-0.688969</td>\n",
              "      <td>-1.428233</td>\n",
              "      <td>2.660703</td>\n",
              "      <td>-0.861344</td>\n",
              "      <td>2.116892</td>\n",
              "      <td>2.906151</td>\n",
              "      <td>1.232334</td>\n",
              "      <td>0.952444</td>\n",
              "      <td>0.685846</td>\n",
              "      <td>0.000000</td>\n",
              "      <td>0.781874</td>\n",
              "      <td>0.676003</td>\n",
              "      <td>1.197807</td>\n",
              "      <td>0.093689</td>\n",
              "    </tr>\n",
              "    <tr>\n",
              "      <th>4999999</th>\n",
              "      <td>0.0</td>\n",
              "      <td>0.761500</td>\n",
              "      <td>0.680454</td>\n",
              "      <td>-1.186213</td>\n",
              "      <td>1.043521</td>\n",
              "      <td>-0.316755</td>\n",
              "      <td>0.246879</td>\n",
              "      <td>1.120280</td>\n",
              "      <td>0.998479</td>\n",
              "      <td>1.640881</td>\n",
              "      <td>-0.797688</td>\n",
              "      <td>0.854212</td>\n",
              "      <td>1.121858</td>\n",
              "      <td>1.165438</td>\n",
              "      <td>1.498351</td>\n",
              "      <td>0.931580</td>\n",
              "      <td>1.293524</td>\n",
              "      <td>1.539167</td>\n",
              "      <td>0.187496</td>\n",
              "    </tr>\n",
              "  </tbody>\n",
              "</table>\n",
              "<p>5000000 rows × 19 columns</p>\n",
              "</div>"
            ],
            "text/plain": [
              "          0         1         2   ...        16        17        18\n",
              "0        0.0  0.972861  0.653855  ...  0.994464  1.367815  0.040714\n",
              "1        1.0  1.667973  0.064191  ...  0.205356  1.321893  0.377584\n",
              "2        1.0  0.444840 -0.134298  ...  1.562374  1.135454  0.180910\n",
              "3        1.0  0.381256 -0.976145  ...  1.715464  1.492257  0.090719\n",
              "4        1.0  1.309996 -0.690089  ...  0.043429  1.154854  0.094859\n",
              "...      ...       ...       ...  ...       ...       ...       ...\n",
              "4999995  1.0  0.853325 -0.961783  ...  2.646649  1.389226  0.364599\n",
              "4999996  0.0  0.951581  0.139370  ...  0.401166  0.443471  0.239953\n",
              "4999997  0.0  0.840389  1.419162  ...  0.614048  1.210595  0.026692\n",
              "4999998  1.0  1.784218 -0.833565  ...  0.676003  1.197807  0.093689\n",
              "4999999  0.0  0.761500  0.680454  ...  1.293524  1.539167  0.187496\n",
              "\n",
              "[5000000 rows x 19 columns]"
            ]
          },
          "metadata": {
            "tags": []
          },
          "execution_count": 5
        }
      ]
    },
    {
      "cell_type": "code",
      "metadata": {
        "id": "uX49pQKvXkQg",
        "colab_type": "code",
        "outputId": "29fe6d78-7cb7-4278-8019-a1a7b214153e",
        "colab": {
          "base_uri": "https://localhost:8080/",
          "height": 473
        }
      },
      "source": [
        "#we add the feature names to the data set to better aid in the data analysis.\n",
        "\n",
        "data.columns = cols_names\n",
        "data"
      ],
      "execution_count": 6,
      "outputs": [
        {
          "output_type": "execute_result",
          "data": {
            "text/html": [
              "<div>\n",
              "<style scoped>\n",
              "    .dataframe tbody tr th:only-of-type {\n",
              "        vertical-align: middle;\n",
              "    }\n",
              "\n",
              "    .dataframe tbody tr th {\n",
              "        vertical-align: top;\n",
              "    }\n",
              "\n",
              "    .dataframe thead th {\n",
              "        text-align: right;\n",
              "    }\n",
              "</style>\n",
              "<table border=\"1\" class=\"dataframe\">\n",
              "  <thead>\n",
              "    <tr style=\"text-align: right;\">\n",
              "      <th></th>\n",
              "      <th>Signal/Background</th>\n",
              "      <th>lepton 1 pT</th>\n",
              "      <th>lepton 1 eta</th>\n",
              "      <th>lepton 1 phi</th>\n",
              "      <th>lepton 2 pT</th>\n",
              "      <th>lepton 2 eta</th>\n",
              "      <th>lepton 2 phi</th>\n",
              "      <th>missing energy magnitude</th>\n",
              "      <th>missing energy phi</th>\n",
              "      <th>MET_rel</th>\n",
              "      <th>axial MET</th>\n",
              "      <th>M_R</th>\n",
              "      <th>M_TR_2</th>\n",
              "      <th>R</th>\n",
              "      <th>MT2</th>\n",
              "      <th>S_R</th>\n",
              "      <th>M_Delta_R</th>\n",
              "      <th>dPhi_r_b</th>\n",
              "      <th>cos(theta_r1)</th>\n",
              "    </tr>\n",
              "  </thead>\n",
              "  <tbody>\n",
              "    <tr>\n",
              "      <th>0</th>\n",
              "      <td>0.0</td>\n",
              "      <td>0.972861</td>\n",
              "      <td>0.653855</td>\n",
              "      <td>1.176225</td>\n",
              "      <td>1.157156</td>\n",
              "      <td>-1.739873</td>\n",
              "      <td>-0.874309</td>\n",
              "      <td>0.567765</td>\n",
              "      <td>-0.175000</td>\n",
              "      <td>0.810061</td>\n",
              "      <td>-0.252552</td>\n",
              "      <td>1.921887</td>\n",
              "      <td>0.889637</td>\n",
              "      <td>0.410772</td>\n",
              "      <td>1.145621</td>\n",
              "      <td>1.932632</td>\n",
              "      <td>0.994464</td>\n",
              "      <td>1.367815</td>\n",
              "      <td>0.040714</td>\n",
              "    </tr>\n",
              "    <tr>\n",
              "      <th>1</th>\n",
              "      <td>1.0</td>\n",
              "      <td>1.667973</td>\n",
              "      <td>0.064191</td>\n",
              "      <td>-1.225171</td>\n",
              "      <td>0.506102</td>\n",
              "      <td>-0.338939</td>\n",
              "      <td>1.672543</td>\n",
              "      <td>3.475464</td>\n",
              "      <td>-1.219136</td>\n",
              "      <td>0.012955</td>\n",
              "      <td>3.775174</td>\n",
              "      <td>1.045977</td>\n",
              "      <td>0.568051</td>\n",
              "      <td>0.481928</td>\n",
              "      <td>0.000000</td>\n",
              "      <td>0.448410</td>\n",
              "      <td>0.205356</td>\n",
              "      <td>1.321893</td>\n",
              "      <td>0.377584</td>\n",
              "    </tr>\n",
              "    <tr>\n",
              "      <th>2</th>\n",
              "      <td>1.0</td>\n",
              "      <td>0.444840</td>\n",
              "      <td>-0.134298</td>\n",
              "      <td>-0.709972</td>\n",
              "      <td>0.451719</td>\n",
              "      <td>-1.613871</td>\n",
              "      <td>-0.768661</td>\n",
              "      <td>1.219918</td>\n",
              "      <td>0.504026</td>\n",
              "      <td>1.831248</td>\n",
              "      <td>-0.431385</td>\n",
              "      <td>0.526283</td>\n",
              "      <td>0.941514</td>\n",
              "      <td>1.587535</td>\n",
              "      <td>2.024308</td>\n",
              "      <td>0.603498</td>\n",
              "      <td>1.562374</td>\n",
              "      <td>1.135454</td>\n",
              "      <td>0.180910</td>\n",
              "    </tr>\n",
              "    <tr>\n",
              "      <th>3</th>\n",
              "      <td>1.0</td>\n",
              "      <td>0.381256</td>\n",
              "      <td>-0.976145</td>\n",
              "      <td>0.693152</td>\n",
              "      <td>0.448959</td>\n",
              "      <td>0.891753</td>\n",
              "      <td>-0.677328</td>\n",
              "      <td>2.033060</td>\n",
              "      <td>1.533041</td>\n",
              "      <td>3.046260</td>\n",
              "      <td>-1.005285</td>\n",
              "      <td>0.569386</td>\n",
              "      <td>1.015211</td>\n",
              "      <td>1.582217</td>\n",
              "      <td>1.551914</td>\n",
              "      <td>0.761215</td>\n",
              "      <td>1.715464</td>\n",
              "      <td>1.492257</td>\n",
              "      <td>0.090719</td>\n",
              "    </tr>\n",
              "    <tr>\n",
              "      <th>4</th>\n",
              "      <td>1.0</td>\n",
              "      <td>1.309996</td>\n",
              "      <td>-0.690089</td>\n",
              "      <td>-0.676259</td>\n",
              "      <td>1.589283</td>\n",
              "      <td>-0.693326</td>\n",
              "      <td>0.622907</td>\n",
              "      <td>1.087562</td>\n",
              "      <td>-0.381742</td>\n",
              "      <td>0.589204</td>\n",
              "      <td>1.365479</td>\n",
              "      <td>1.179295</td>\n",
              "      <td>0.968218</td>\n",
              "      <td>0.728563</td>\n",
              "      <td>0.000000</td>\n",
              "      <td>1.083158</td>\n",
              "      <td>0.043429</td>\n",
              "      <td>1.154854</td>\n",
              "      <td>0.094859</td>\n",
              "    </tr>\n",
              "    <tr>\n",
              "      <th>...</th>\n",
              "      <td>...</td>\n",
              "      <td>...</td>\n",
              "      <td>...</td>\n",
              "      <td>...</td>\n",
              "      <td>...</td>\n",
              "      <td>...</td>\n",
              "      <td>...</td>\n",
              "      <td>...</td>\n",
              "      <td>...</td>\n",
              "      <td>...</td>\n",
              "      <td>...</td>\n",
              "      <td>...</td>\n",
              "      <td>...</td>\n",
              "      <td>...</td>\n",
              "      <td>...</td>\n",
              "      <td>...</td>\n",
              "      <td>...</td>\n",
              "      <td>...</td>\n",
              "      <td>...</td>\n",
              "    </tr>\n",
              "    <tr>\n",
              "      <th>4999995</th>\n",
              "      <td>1.0</td>\n",
              "      <td>0.853325</td>\n",
              "      <td>-0.961783</td>\n",
              "      <td>-1.487277</td>\n",
              "      <td>0.678190</td>\n",
              "      <td>0.493580</td>\n",
              "      <td>1.647969</td>\n",
              "      <td>1.843867</td>\n",
              "      <td>0.276954</td>\n",
              "      <td>1.025105</td>\n",
              "      <td>-1.486535</td>\n",
              "      <td>0.892879</td>\n",
              "      <td>1.684429</td>\n",
              "      <td>1.674084</td>\n",
              "      <td>3.366298</td>\n",
              "      <td>1.046707</td>\n",
              "      <td>2.646649</td>\n",
              "      <td>1.389226</td>\n",
              "      <td>0.364599</td>\n",
              "    </tr>\n",
              "    <tr>\n",
              "      <th>4999996</th>\n",
              "      <td>0.0</td>\n",
              "      <td>0.951581</td>\n",
              "      <td>0.139370</td>\n",
              "      <td>1.436884</td>\n",
              "      <td>0.880440</td>\n",
              "      <td>-0.351948</td>\n",
              "      <td>-0.740852</td>\n",
              "      <td>0.290863</td>\n",
              "      <td>-0.732360</td>\n",
              "      <td>0.001360</td>\n",
              "      <td>0.257738</td>\n",
              "      <td>0.802871</td>\n",
              "      <td>0.545319</td>\n",
              "      <td>0.602730</td>\n",
              "      <td>0.002998</td>\n",
              "      <td>0.748959</td>\n",
              "      <td>0.401166</td>\n",
              "      <td>0.443471</td>\n",
              "      <td>0.239953</td>\n",
              "    </tr>\n",
              "    <tr>\n",
              "      <th>4999997</th>\n",
              "      <td>0.0</td>\n",
              "      <td>0.840389</td>\n",
              "      <td>1.419162</td>\n",
              "      <td>-1.218766</td>\n",
              "      <td>1.195631</td>\n",
              "      <td>1.695645</td>\n",
              "      <td>0.663756</td>\n",
              "      <td>0.490888</td>\n",
              "      <td>-0.509186</td>\n",
              "      <td>0.704289</td>\n",
              "      <td>0.045744</td>\n",
              "      <td>0.825015</td>\n",
              "      <td>0.723530</td>\n",
              "      <td>0.778236</td>\n",
              "      <td>0.752942</td>\n",
              "      <td>0.838953</td>\n",
              "      <td>0.614048</td>\n",
              "      <td>1.210595</td>\n",
              "      <td>0.026692</td>\n",
              "    </tr>\n",
              "    <tr>\n",
              "      <th>4999998</th>\n",
              "      <td>1.0</td>\n",
              "      <td>1.784218</td>\n",
              "      <td>-0.833565</td>\n",
              "      <td>-0.560091</td>\n",
              "      <td>0.953342</td>\n",
              "      <td>-0.688969</td>\n",
              "      <td>-1.428233</td>\n",
              "      <td>2.660703</td>\n",
              "      <td>-0.861344</td>\n",
              "      <td>2.116892</td>\n",
              "      <td>2.906151</td>\n",
              "      <td>1.232334</td>\n",
              "      <td>0.952444</td>\n",
              "      <td>0.685846</td>\n",
              "      <td>0.000000</td>\n",
              "      <td>0.781874</td>\n",
              "      <td>0.676003</td>\n",
              "      <td>1.197807</td>\n",
              "      <td>0.093689</td>\n",
              "    </tr>\n",
              "    <tr>\n",
              "      <th>4999999</th>\n",
              "      <td>0.0</td>\n",
              "      <td>0.761500</td>\n",
              "      <td>0.680454</td>\n",
              "      <td>-1.186213</td>\n",
              "      <td>1.043521</td>\n",
              "      <td>-0.316755</td>\n",
              "      <td>0.246879</td>\n",
              "      <td>1.120280</td>\n",
              "      <td>0.998479</td>\n",
              "      <td>1.640881</td>\n",
              "      <td>-0.797688</td>\n",
              "      <td>0.854212</td>\n",
              "      <td>1.121858</td>\n",
              "      <td>1.165438</td>\n",
              "      <td>1.498351</td>\n",
              "      <td>0.931580</td>\n",
              "      <td>1.293524</td>\n",
              "      <td>1.539167</td>\n",
              "      <td>0.187496</td>\n",
              "    </tr>\n",
              "  </tbody>\n",
              "</table>\n",
              "<p>5000000 rows × 19 columns</p>\n",
              "</div>"
            ],
            "text/plain": [
              "         Signal/Background  lepton 1 pT  ...  dPhi_r_b  cos(theta_r1)\n",
              "0                      0.0     0.972861  ...  1.367815       0.040714\n",
              "1                      1.0     1.667973  ...  1.321893       0.377584\n",
              "2                      1.0     0.444840  ...  1.135454       0.180910\n",
              "3                      1.0     0.381256  ...  1.492257       0.090719\n",
              "4                      1.0     1.309996  ...  1.154854       0.094859\n",
              "...                    ...          ...  ...       ...            ...\n",
              "4999995                1.0     0.853325  ...  1.389226       0.364599\n",
              "4999996                0.0     0.951581  ...  0.443471       0.239953\n",
              "4999997                0.0     0.840389  ...  1.210595       0.026692\n",
              "4999998                1.0     1.784218  ...  1.197807       0.093689\n",
              "4999999                0.0     0.761500  ...  1.539167       0.187496\n",
              "\n",
              "[5000000 rows x 19 columns]"
            ]
          },
          "metadata": {
            "tags": []
          },
          "execution_count": 6
        }
      ]
    },
    {
      "cell_type": "code",
      "metadata": {
        "id": "BRVFxve-PCd1",
        "colab_type": "code",
        "colab": {}
      },
      "source": [
        "#we separate the target vector from the feature matrix to start the ground work for \n",
        "#model training \n",
        "\n",
        "y = data['Signal/Background']"
      ],
      "execution_count": 0,
      "outputs": []
    },
    {
      "cell_type": "code",
      "metadata": {
        "id": "K8p7B0r0ijnU",
        "colab_type": "code",
        "outputId": "e3c31acf-515c-4cfe-f8ab-65299096bd7f",
        "colab": {
          "base_uri": "https://localhost:8080/",
          "height": 34
        }
      },
      "source": [
        "print('Target Vector:')"
      ],
      "execution_count": 8,
      "outputs": [
        {
          "output_type": "stream",
          "text": [
            "Target Vector:\n"
          ],
          "name": "stdout"
        }
      ]
    },
    {
      "cell_type": "code",
      "metadata": {
        "id": "MOxXWqrSYo_9",
        "colab_type": "code",
        "outputId": "082271c0-33c6-4294-d153-58500eba30ae",
        "colab": {
          "base_uri": "https://localhost:8080/",
          "height": 419
        }
      },
      "source": [
        "pd.DataFrame(y)"
      ],
      "execution_count": 9,
      "outputs": [
        {
          "output_type": "execute_result",
          "data": {
            "text/html": [
              "<div>\n",
              "<style scoped>\n",
              "    .dataframe tbody tr th:only-of-type {\n",
              "        vertical-align: middle;\n",
              "    }\n",
              "\n",
              "    .dataframe tbody tr th {\n",
              "        vertical-align: top;\n",
              "    }\n",
              "\n",
              "    .dataframe thead th {\n",
              "        text-align: right;\n",
              "    }\n",
              "</style>\n",
              "<table border=\"1\" class=\"dataframe\">\n",
              "  <thead>\n",
              "    <tr style=\"text-align: right;\">\n",
              "      <th></th>\n",
              "      <th>Signal/Background</th>\n",
              "    </tr>\n",
              "  </thead>\n",
              "  <tbody>\n",
              "    <tr>\n",
              "      <th>0</th>\n",
              "      <td>0.0</td>\n",
              "    </tr>\n",
              "    <tr>\n",
              "      <th>1</th>\n",
              "      <td>1.0</td>\n",
              "    </tr>\n",
              "    <tr>\n",
              "      <th>2</th>\n",
              "      <td>1.0</td>\n",
              "    </tr>\n",
              "    <tr>\n",
              "      <th>3</th>\n",
              "      <td>1.0</td>\n",
              "    </tr>\n",
              "    <tr>\n",
              "      <th>4</th>\n",
              "      <td>1.0</td>\n",
              "    </tr>\n",
              "    <tr>\n",
              "      <th>...</th>\n",
              "      <td>...</td>\n",
              "    </tr>\n",
              "    <tr>\n",
              "      <th>4999995</th>\n",
              "      <td>1.0</td>\n",
              "    </tr>\n",
              "    <tr>\n",
              "      <th>4999996</th>\n",
              "      <td>0.0</td>\n",
              "    </tr>\n",
              "    <tr>\n",
              "      <th>4999997</th>\n",
              "      <td>0.0</td>\n",
              "    </tr>\n",
              "    <tr>\n",
              "      <th>4999998</th>\n",
              "      <td>1.0</td>\n",
              "    </tr>\n",
              "    <tr>\n",
              "      <th>4999999</th>\n",
              "      <td>0.0</td>\n",
              "    </tr>\n",
              "  </tbody>\n",
              "</table>\n",
              "<p>5000000 rows × 1 columns</p>\n",
              "</div>"
            ],
            "text/plain": [
              "         Signal/Background\n",
              "0                      0.0\n",
              "1                      1.0\n",
              "2                      1.0\n",
              "3                      1.0\n",
              "4                      1.0\n",
              "...                    ...\n",
              "4999995                1.0\n",
              "4999996                0.0\n",
              "4999997                0.0\n",
              "4999998                1.0\n",
              "4999999                0.0\n",
              "\n",
              "[5000000 rows x 1 columns]"
            ]
          },
          "metadata": {
            "tags": []
          },
          "execution_count": 9
        }
      ]
    },
    {
      "cell_type": "code",
      "metadata": {
        "id": "9NRsfjS2QKf3",
        "colab_type": "code",
        "colab": {}
      },
      "source": [
        "X = data.loc[:,'lepton 1 pT':]"
      ],
      "execution_count": 0,
      "outputs": []
    },
    {
      "cell_type": "code",
      "metadata": {
        "id": "1bZunrInRebw",
        "colab_type": "code",
        "outputId": "5bd3cd8e-85cd-4c7c-c3a7-669af19e3970",
        "colab": {
          "base_uri": "https://localhost:8080/",
          "height": 470
        }
      },
      "source": [
        "print('Feature Matrix:')\n",
        "X"
      ],
      "execution_count": 11,
      "outputs": [
        {
          "output_type": "stream",
          "text": [
            "Feature Matrix:\n"
          ],
          "name": "stdout"
        },
        {
          "output_type": "execute_result",
          "data": {
            "text/html": [
              "<div>\n",
              "<style scoped>\n",
              "    .dataframe tbody tr th:only-of-type {\n",
              "        vertical-align: middle;\n",
              "    }\n",
              "\n",
              "    .dataframe tbody tr th {\n",
              "        vertical-align: top;\n",
              "    }\n",
              "\n",
              "    .dataframe thead th {\n",
              "        text-align: right;\n",
              "    }\n",
              "</style>\n",
              "<table border=\"1\" class=\"dataframe\">\n",
              "  <thead>\n",
              "    <tr style=\"text-align: right;\">\n",
              "      <th></th>\n",
              "      <th>lepton 1 pT</th>\n",
              "      <th>lepton 1 eta</th>\n",
              "      <th>lepton 1 phi</th>\n",
              "      <th>lepton 2 pT</th>\n",
              "      <th>lepton 2 eta</th>\n",
              "      <th>lepton 2 phi</th>\n",
              "      <th>missing energy magnitude</th>\n",
              "      <th>missing energy phi</th>\n",
              "      <th>MET_rel</th>\n",
              "      <th>axial MET</th>\n",
              "      <th>M_R</th>\n",
              "      <th>M_TR_2</th>\n",
              "      <th>R</th>\n",
              "      <th>MT2</th>\n",
              "      <th>S_R</th>\n",
              "      <th>M_Delta_R</th>\n",
              "      <th>dPhi_r_b</th>\n",
              "      <th>cos(theta_r1)</th>\n",
              "    </tr>\n",
              "  </thead>\n",
              "  <tbody>\n",
              "    <tr>\n",
              "      <th>0</th>\n",
              "      <td>0.972861</td>\n",
              "      <td>0.653855</td>\n",
              "      <td>1.176225</td>\n",
              "      <td>1.157156</td>\n",
              "      <td>-1.739873</td>\n",
              "      <td>-0.874309</td>\n",
              "      <td>0.567765</td>\n",
              "      <td>-0.175000</td>\n",
              "      <td>0.810061</td>\n",
              "      <td>-0.252552</td>\n",
              "      <td>1.921887</td>\n",
              "      <td>0.889637</td>\n",
              "      <td>0.410772</td>\n",
              "      <td>1.145621</td>\n",
              "      <td>1.932632</td>\n",
              "      <td>0.994464</td>\n",
              "      <td>1.367815</td>\n",
              "      <td>0.040714</td>\n",
              "    </tr>\n",
              "    <tr>\n",
              "      <th>1</th>\n",
              "      <td>1.667973</td>\n",
              "      <td>0.064191</td>\n",
              "      <td>-1.225171</td>\n",
              "      <td>0.506102</td>\n",
              "      <td>-0.338939</td>\n",
              "      <td>1.672543</td>\n",
              "      <td>3.475464</td>\n",
              "      <td>-1.219136</td>\n",
              "      <td>0.012955</td>\n",
              "      <td>3.775174</td>\n",
              "      <td>1.045977</td>\n",
              "      <td>0.568051</td>\n",
              "      <td>0.481928</td>\n",
              "      <td>0.000000</td>\n",
              "      <td>0.448410</td>\n",
              "      <td>0.205356</td>\n",
              "      <td>1.321893</td>\n",
              "      <td>0.377584</td>\n",
              "    </tr>\n",
              "    <tr>\n",
              "      <th>2</th>\n",
              "      <td>0.444840</td>\n",
              "      <td>-0.134298</td>\n",
              "      <td>-0.709972</td>\n",
              "      <td>0.451719</td>\n",
              "      <td>-1.613871</td>\n",
              "      <td>-0.768661</td>\n",
              "      <td>1.219918</td>\n",
              "      <td>0.504026</td>\n",
              "      <td>1.831248</td>\n",
              "      <td>-0.431385</td>\n",
              "      <td>0.526283</td>\n",
              "      <td>0.941514</td>\n",
              "      <td>1.587535</td>\n",
              "      <td>2.024308</td>\n",
              "      <td>0.603498</td>\n",
              "      <td>1.562374</td>\n",
              "      <td>1.135454</td>\n",
              "      <td>0.180910</td>\n",
              "    </tr>\n",
              "    <tr>\n",
              "      <th>3</th>\n",
              "      <td>0.381256</td>\n",
              "      <td>-0.976145</td>\n",
              "      <td>0.693152</td>\n",
              "      <td>0.448959</td>\n",
              "      <td>0.891753</td>\n",
              "      <td>-0.677328</td>\n",
              "      <td>2.033060</td>\n",
              "      <td>1.533041</td>\n",
              "      <td>3.046260</td>\n",
              "      <td>-1.005285</td>\n",
              "      <td>0.569386</td>\n",
              "      <td>1.015211</td>\n",
              "      <td>1.582217</td>\n",
              "      <td>1.551914</td>\n",
              "      <td>0.761215</td>\n",
              "      <td>1.715464</td>\n",
              "      <td>1.492257</td>\n",
              "      <td>0.090719</td>\n",
              "    </tr>\n",
              "    <tr>\n",
              "      <th>4</th>\n",
              "      <td>1.309996</td>\n",
              "      <td>-0.690089</td>\n",
              "      <td>-0.676259</td>\n",
              "      <td>1.589283</td>\n",
              "      <td>-0.693326</td>\n",
              "      <td>0.622907</td>\n",
              "      <td>1.087562</td>\n",
              "      <td>-0.381742</td>\n",
              "      <td>0.589204</td>\n",
              "      <td>1.365479</td>\n",
              "      <td>1.179295</td>\n",
              "      <td>0.968218</td>\n",
              "      <td>0.728563</td>\n",
              "      <td>0.000000</td>\n",
              "      <td>1.083158</td>\n",
              "      <td>0.043429</td>\n",
              "      <td>1.154854</td>\n",
              "      <td>0.094859</td>\n",
              "    </tr>\n",
              "    <tr>\n",
              "      <th>...</th>\n",
              "      <td>...</td>\n",
              "      <td>...</td>\n",
              "      <td>...</td>\n",
              "      <td>...</td>\n",
              "      <td>...</td>\n",
              "      <td>...</td>\n",
              "      <td>...</td>\n",
              "      <td>...</td>\n",
              "      <td>...</td>\n",
              "      <td>...</td>\n",
              "      <td>...</td>\n",
              "      <td>...</td>\n",
              "      <td>...</td>\n",
              "      <td>...</td>\n",
              "      <td>...</td>\n",
              "      <td>...</td>\n",
              "      <td>...</td>\n",
              "      <td>...</td>\n",
              "    </tr>\n",
              "    <tr>\n",
              "      <th>4999995</th>\n",
              "      <td>0.853325</td>\n",
              "      <td>-0.961783</td>\n",
              "      <td>-1.487277</td>\n",
              "      <td>0.678190</td>\n",
              "      <td>0.493580</td>\n",
              "      <td>1.647969</td>\n",
              "      <td>1.843867</td>\n",
              "      <td>0.276954</td>\n",
              "      <td>1.025105</td>\n",
              "      <td>-1.486535</td>\n",
              "      <td>0.892879</td>\n",
              "      <td>1.684429</td>\n",
              "      <td>1.674084</td>\n",
              "      <td>3.366298</td>\n",
              "      <td>1.046707</td>\n",
              "      <td>2.646649</td>\n",
              "      <td>1.389226</td>\n",
              "      <td>0.364599</td>\n",
              "    </tr>\n",
              "    <tr>\n",
              "      <th>4999996</th>\n",
              "      <td>0.951581</td>\n",
              "      <td>0.139370</td>\n",
              "      <td>1.436884</td>\n",
              "      <td>0.880440</td>\n",
              "      <td>-0.351948</td>\n",
              "      <td>-0.740852</td>\n",
              "      <td>0.290863</td>\n",
              "      <td>-0.732360</td>\n",
              "      <td>0.001360</td>\n",
              "      <td>0.257738</td>\n",
              "      <td>0.802871</td>\n",
              "      <td>0.545319</td>\n",
              "      <td>0.602730</td>\n",
              "      <td>0.002998</td>\n",
              "      <td>0.748959</td>\n",
              "      <td>0.401166</td>\n",
              "      <td>0.443471</td>\n",
              "      <td>0.239953</td>\n",
              "    </tr>\n",
              "    <tr>\n",
              "      <th>4999997</th>\n",
              "      <td>0.840389</td>\n",
              "      <td>1.419162</td>\n",
              "      <td>-1.218766</td>\n",
              "      <td>1.195631</td>\n",
              "      <td>1.695645</td>\n",
              "      <td>0.663756</td>\n",
              "      <td>0.490888</td>\n",
              "      <td>-0.509186</td>\n",
              "      <td>0.704289</td>\n",
              "      <td>0.045744</td>\n",
              "      <td>0.825015</td>\n",
              "      <td>0.723530</td>\n",
              "      <td>0.778236</td>\n",
              "      <td>0.752942</td>\n",
              "      <td>0.838953</td>\n",
              "      <td>0.614048</td>\n",
              "      <td>1.210595</td>\n",
              "      <td>0.026692</td>\n",
              "    </tr>\n",
              "    <tr>\n",
              "      <th>4999998</th>\n",
              "      <td>1.784218</td>\n",
              "      <td>-0.833565</td>\n",
              "      <td>-0.560091</td>\n",
              "      <td>0.953342</td>\n",
              "      <td>-0.688969</td>\n",
              "      <td>-1.428233</td>\n",
              "      <td>2.660703</td>\n",
              "      <td>-0.861344</td>\n",
              "      <td>2.116892</td>\n",
              "      <td>2.906151</td>\n",
              "      <td>1.232334</td>\n",
              "      <td>0.952444</td>\n",
              "      <td>0.685846</td>\n",
              "      <td>0.000000</td>\n",
              "      <td>0.781874</td>\n",
              "      <td>0.676003</td>\n",
              "      <td>1.197807</td>\n",
              "      <td>0.093689</td>\n",
              "    </tr>\n",
              "    <tr>\n",
              "      <th>4999999</th>\n",
              "      <td>0.761500</td>\n",
              "      <td>0.680454</td>\n",
              "      <td>-1.186213</td>\n",
              "      <td>1.043521</td>\n",
              "      <td>-0.316755</td>\n",
              "      <td>0.246879</td>\n",
              "      <td>1.120280</td>\n",
              "      <td>0.998479</td>\n",
              "      <td>1.640881</td>\n",
              "      <td>-0.797688</td>\n",
              "      <td>0.854212</td>\n",
              "      <td>1.121858</td>\n",
              "      <td>1.165438</td>\n",
              "      <td>1.498351</td>\n",
              "      <td>0.931580</td>\n",
              "      <td>1.293524</td>\n",
              "      <td>1.539167</td>\n",
              "      <td>0.187496</td>\n",
              "    </tr>\n",
              "  </tbody>\n",
              "</table>\n",
              "<p>5000000 rows × 18 columns</p>\n",
              "</div>"
            ],
            "text/plain": [
              "         lepton 1 pT  lepton 1 eta  ...  dPhi_r_b  cos(theta_r1)\n",
              "0           0.972861      0.653855  ...  1.367815       0.040714\n",
              "1           1.667973      0.064191  ...  1.321893       0.377584\n",
              "2           0.444840     -0.134298  ...  1.135454       0.180910\n",
              "3           0.381256     -0.976145  ...  1.492257       0.090719\n",
              "4           1.309996     -0.690089  ...  1.154854       0.094859\n",
              "...              ...           ...  ...       ...            ...\n",
              "4999995     0.853325     -0.961783  ...  1.389226       0.364599\n",
              "4999996     0.951581      0.139370  ...  0.443471       0.239953\n",
              "4999997     0.840389      1.419162  ...  1.210595       0.026692\n",
              "4999998     1.784218     -0.833565  ...  1.197807       0.093689\n",
              "4999999     0.761500      0.680454  ...  1.539167       0.187496\n",
              "\n",
              "[5000000 rows x 18 columns]"
            ]
          },
          "metadata": {
            "tags": []
          },
          "execution_count": 11
        }
      ]
    },
    {
      "cell_type": "markdown",
      "metadata": {
        "id": "s-K7DBxw2GgK",
        "colab_type": "text"
      },
      "source": [
        "#Showcasing Features \n",
        "\n",
        "Below you will find the distribution of the "
      ]
    },
    {
      "cell_type": "code",
      "metadata": {
        "id": "wKrwh5INtU69",
        "colab_type": "code",
        "outputId": "265e5db9-3820-4eb9-9134-1c23e062086f",
        "colab": {
          "base_uri": "https://localhost:8080/",
          "height": 369
        }
      },
      "source": [
        "plt.figure(figsize=(10,5))  \n",
        "\n",
        "plt.hist(data['lepton 1 pT'], bins=40, color='dodgerblue', density=True)\n",
        "\n",
        "plt.ylabel('Number of Measured Events', fontsize=15)\n",
        "plt.xlabel('Event Measurement [GeV]', fontsize=15)\n",
        "\n",
        "plt.tick_params(labelsize=15)\n",
        "plt.title(r'Distribution of Measured Events of Feature: Lepton 1 $p_T$ ', fontsize=20)\n",
        "\n",
        "plt.tight_layout()"
      ],
      "execution_count": 12,
      "outputs": [
        {
          "output_type": "display_data",
          "data": {
            "image/png": "[encoded data removed]",
            "text/plain": [
              "<Figure size 720x360 with 1 Axes>"
            ]
          },
          "metadata": {
            "tags": [],
            "needs_background": "light"
          }
        }
      ]
    },
    {
      "cell_type": "markdown",
      "metadata": {
        "id": "szxgbfxEfrh7",
        "colab_type": "text"
      },
      "source": [
        "#Benchmarking: Calculating Worst Case Scenario\n",
        "\n",
        "In this section we are interesting in doing a rough approximation to answer the following question: what is the worst performance a model can have in identifying the signal from the background noise in this data set? \n",
        "\n",
        "For that we will do a very straight forward approach: to count the representation of signal and background on the target vector. \n",
        "\n",
        "Having this information can help us understand a bit what does it mean a worst case scenario. \n",
        "\n",
        "\n"
      ]
    },
    {
      "cell_type": "code",
      "metadata": {
        "id": "XjGtTNgfUJmM",
        "colab_type": "code",
        "colab": {}
      },
      "source": [
        "#we are using a for-loop to better highlight the counting rather than any advanced#\n",
        "#numpy methods \n",
        "\n",
        "#arrays to keep the amount of counts for each category. \n",
        "\n",
        "#loop with the booleans to separate signal from background\n",
        "def majority_counter(arr):\n",
        "  s_count =[]\n",
        "  b_count = []\n",
        "  for i in y:\n",
        "    if i == 0:\n",
        "      b_count.append(i)\n",
        "    if i == 1:\n",
        "      s_count.append(i)\n",
        "  \n",
        "  return(s_count, b_count)"
      ],
      "execution_count": 0,
      "outputs": []
    },
    {
      "cell_type": "code",
      "metadata": {
        "id": "hMJXEM3tfoZ8",
        "colab_type": "code",
        "outputId": "51c07e0f-c783-4a7d-c2a1-373388011b6d",
        "colab": {
          "base_uri": "https://localhost:8080/",
          "height": 34
        }
      },
      "source": [
        "#let's check this against the expected value for signal and noise\n",
        "signal_count = majority_counter(y)[0]\n",
        "background_count = majority_counter(y)[1]\n",
        "#the proportions\n",
        "print('Proportion Percentage of Signal and Background Noise:', 100*np.size(signal_count)/np.size(y), 100*np.size(background_count)/np.size(y))"
      ],
      "execution_count": 14,
      "outputs": [
        {
          "output_type": "stream",
          "text": [
            "Proportion Percentage of Signal and Background Noise: 45.75654 54.24346\n"
          ],
          "name": "stdout"
        }
      ]
    },
    {
      "cell_type": "markdown",
      "metadata": {
        "id": "xZ_v2MOw7BjM",
        "colab_type": "text"
      },
      "source": [
        "#Distribution Signal - Background Noise"
      ]
    },
    {
      "cell_type": "code",
      "metadata": {
        "id": "VVwVwh797AIH",
        "colab_type": "code",
        "outputId": "1866259a-f0cd-49af-d68e-2607e2c3f927",
        "colab": {
          "base_uri": "https://localhost:8080/",
          "height": 369
        }
      },
      "source": [
        "plt.figure(figsize=(10,5))  \n",
        "\n",
        "plt.hist(signal_count, bins=40, color='dodgerblue',label='Signal',density=True)\n",
        "plt.hist(background_count, bins=40, color='red',  label='Background',density=True)\n",
        "plt.ylabel('Probability', fontsize=15)\n",
        "plt.xlabel('Class Label', fontsize=15)\n",
        "\n",
        "plt.tick_params(labelsize=15)\n",
        "plt.title(r'Signal-Background Noise Distribution ', fontsize=20)\n",
        "plt.legend(loc='best', fontsize=15)\n",
        "\n",
        "plt.xlim(-0.2,1.2)\n",
        "\n",
        "plt.tight_layout()"
      ],
      "execution_count": 15,
      "outputs": [
        {
          "output_type": "display_data",
          "data": {
            "image/png": "[encoded data removed]",
            "text/plain": [
              "<Figure size 720x360 with 1 Axes>"
            ]
          },
          "metadata": {
            "tags": [],
            "needs_background": "light"
          }
        }
      ]
    },
    {
      "cell_type": "markdown",
      "metadata": {
        "id": "ok5e49azg0Ge",
        "colab_type": "text"
      },
      "source": [
        "We did this estimation on the target vector to estimate the proportion of signal and background before training on the model. \n",
        "\n",
        "So what can we learn about the 46/54 proportions? We know that at the worst case scenario, the model should at the very least yield a background reading of at least 54%. \n",
        "\n",
        "If our model's accuracy is below this value, our model is not accurate. \n",
        "\n",
        "Thus this is a benchmark we are going use to compare against the model's accuracy. "
      ]
    },
    {
      "cell_type": "markdown",
      "metadata": {
        "id": "hHGFMO2VZzBs",
        "colab_type": "text"
      },
      "source": [
        "Now that we have the Features Matrix and the Target vector, we can take SUSY data in its the full feature space and apply the regression model."
      ]
    },
    {
      "cell_type": "code",
      "metadata": {
        "id": "j-DUOW6bR0-N",
        "colab_type": "code",
        "colab": {}
      },
      "source": [
        "from sklearn.model_selection import train_test_split\n",
        "from sklearn.linear_model import LogisticRegression\n",
        "\n",
        "X_train, X_test, y_train, y_test = train_test_split(X, y, test_size = 0.2)"
      ],
      "execution_count": 0,
      "outputs": []
    },
    {
      "cell_type": "code",
      "metadata": {
        "id": "lR-KA2SAVHdu",
        "colab_type": "code",
        "colab": {}
      },
      "source": [
        "clf = LogisticRegression(random_state=0,max_iter = 4000)"
      ],
      "execution_count": 0,
      "outputs": []
    },
    {
      "cell_type": "code",
      "metadata": {
        "id": "lulO2ANOY9jA",
        "colab_type": "code",
        "outputId": "dddab976-9785-4d12-c9cd-e32a800fe639",
        "colab": {
          "base_uri": "https://localhost:8080/",
          "height": 102
        }
      },
      "source": [
        "clf.fit(X_train, y_train)"
      ],
      "execution_count": 18,
      "outputs": [
        {
          "output_type": "execute_result",
          "data": {
            "text/plain": [
              "LogisticRegression(C=1.0, class_weight=None, dual=False, fit_intercept=True,\n",
              "                   intercept_scaling=1, l1_ratio=None, max_iter=4000,\n",
              "                   multi_class='auto', n_jobs=None, penalty='l2',\n",
              "                   random_state=0, solver='lbfgs', tol=0.0001, verbose=0,\n",
              "                   warm_start=False)"
            ]
          },
          "metadata": {
            "tags": []
          },
          "execution_count": 18
        }
      ]
    },
    {
      "cell_type": "code",
      "metadata": {
        "id": "fqKcuEavTnMU",
        "colab_type": "code",
        "colab": {}
      },
      "source": [
        "pred_train = clf.predict(X_train)\n",
        "expected = y_train"
      ],
      "execution_count": 0,
      "outputs": []
    },
    {
      "cell_type": "code",
      "metadata": {
        "id": "LVIUxYcByW9t",
        "colab_type": "code",
        "outputId": "60dfb328-69ed-4d75-ec34-2b6cfc7b6f9a",
        "colab": {
          "base_uri": "https://localhost:8080/",
          "height": 34
        }
      },
      "source": [
        "print('Score Training Accuracy Logistic Regression: ',100*accuracy_score(y_train, pred_train))"
      ],
      "execution_count": 20,
      "outputs": [
        {
          "output_type": "stream",
          "text": [
            "Score Training Accuracy Logistic Regression:  78.83815\n"
          ],
          "name": "stdout"
        }
      ]
    },
    {
      "cell_type": "code",
      "metadata": {
        "id": "qCqIrKJAyffp",
        "colab_type": "code",
        "outputId": "beae2038-7e15-41e4-9e41-9213079b99ce",
        "colab": {
          "base_uri": "https://localhost:8080/",
          "height": 34
        }
      },
      "source": [
        "#prediction against data \n",
        "pred_test = clf.predict(X_test)\n",
        "print('Score Testing Accuracy Logistic Regression: ',100*accuracy_score(y_test, pred_test))"
      ],
      "execution_count": 21,
      "outputs": [
        {
          "output_type": "stream",
          "text": [
            "Score Testing Accuracy Logistic Regression:  78.807\n"
          ],
          "name": "stdout"
        }
      ]
    },
    {
      "cell_type": "markdown",
      "metadata": {
        "id": "LeVPBLc3jAa4",
        "colab_type": "text"
      },
      "source": [
        "#Model's Performance vs Benchmark\n",
        "\n",
        "We can conclude that this model has succesfully beaten the benchmark established at the beginning of this notebook to identify an input as signal\\background. "
      ]
    },
    {
      "cell_type": "markdown",
      "metadata": {
        "id": "ev8njxDSaMUN",
        "colab_type": "text"
      },
      "source": [
        "#Adding Neural Network to Implement a Classifier\n",
        "\n",
        "We implement here a very straight-forward classifier. Our goal is to see whether this MLP algorithm can outperform the LR-method. "
      ]
    },
    {
      "cell_type": "code",
      "metadata": {
        "id": "iWSAYigsVzmf",
        "colab_type": "code",
        "colab": {}
      },
      "source": [
        "from sklearn.neural_network import MLPClassifier\n",
        "\n",
        "mlp = MLPClassifier(random_state=1, max_iter=500, hidden_layer_sizes=(120,))"
      ],
      "execution_count": 0,
      "outputs": []
    },
    {
      "cell_type": "code",
      "metadata": {
        "id": "whHr9b4bV2TL",
        "colab_type": "code",
        "outputId": "55215461-7944-484f-e083-dcae261cc42b",
        "colab": {
          "base_uri": "https://localhost:8080/",
          "height": 153
        }
      },
      "source": [
        "mlp.fit(X_train, y_train)"
      ],
      "execution_count": 23,
      "outputs": [
        {
          "output_type": "execute_result",
          "data": {
            "text/plain": [
              "MLPClassifier(activation='relu', alpha=0.0001, batch_size='auto', beta_1=0.9,\n",
              "              beta_2=0.999, early_stopping=False, epsilon=1e-08,\n",
              "              hidden_layer_sizes=(120,), learning_rate='constant',\n",
              "              learning_rate_init=0.001, max_fun=15000, max_iter=500,\n",
              "              momentum=0.9, n_iter_no_change=10, nesterovs_momentum=True,\n",
              "              power_t=0.5, random_state=1, shuffle=True, solver='adam',\n",
              "              tol=0.0001, validation_fraction=0.1, verbose=False,\n",
              "              warm_start=False)"
            ]
          },
          "metadata": {
            "tags": []
          },
          "execution_count": 23
        }
      ]
    },
    {
      "cell_type": "code",
      "metadata": {
        "id": "-xfvPIz6WPeY",
        "colab_type": "code",
        "colab": {}
      },
      "source": [
        "mlp_test = mlp.predict(X_test)"
      ],
      "execution_count": 0,
      "outputs": []
    },
    {
      "cell_type": "code",
      "metadata": {
        "id": "DuWr_MNeaFZD",
        "colab_type": "code",
        "outputId": "032a43d9-61e8-4580-9145-f5ba7518ef89",
        "colab": {
          "base_uri": "https://localhost:8080/",
          "height": 34
        }
      },
      "source": [
        "print('Score Testing Accuracy MLP Classifier: ',100*accuracy_score(y_test, mlp_test))"
      ],
      "execution_count": 28,
      "outputs": [
        {
          "output_type": "stream",
          "text": [
            "Score Testing Accuracy MLP Classifier:  80.3155\n"
          ],
          "name": "stdout"
        }
      ]
    },
    {
      "cell_type": "markdown",
      "metadata": {
        "id": "UYShOfLw2O7L",
        "colab_type": "text"
      },
      "source": [
        "#Notes from Literature \n",
        "\n",
        "The highest cited accuracy score in literature was 0.89 in the [Nature communications paper](https://arxiv.org/pdf/1402.4735.pdf).  "
      ]
    }
  ]
}