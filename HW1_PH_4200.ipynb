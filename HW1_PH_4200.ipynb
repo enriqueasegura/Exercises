{
  "nbformat": 4,
  "nbformat_minor": 0,
  "metadata": {
    "colab": {
      "name": "HW1-PH 4200.ipynb",
      "provenance": [],
      "collapsed_sections": [],
      "authorship_tag": "ABX9TyNBwwj639VMr+vpU8fW5ELf",
      "include_colab_link": true
    },
    "kernelspec": {
      "name": "python3",
      "display_name": "Python 3"
    }
  },
  "cells": [
    {
      "cell_type": "markdown",
      "metadata": {
        "id": "view-in-github",
        "colab_type": "text"
      },
      "source": [
        "<a href=\"https://colab.research.google.com/github/enriqueasegura/Exercises/blob/master/HW1_PH_4200.ipynb\" target=\"_parent\"><img src=\"https://colab.research.google.com/assets/colab-badge.svg\" alt=\"Open In Colab\"/></a>"
      ]
    },
    {
      "cell_type": "code",
      "metadata": {
        "id": "g3BtTisZUNGu",
        "colab_type": "code",
        "colab": {}
      },
      "source": [
        "import scipy\n",
        "import numpy as np\n",
        "import matplotlib.pyplot as plt\n",
        "import pandas as pd\n",
        "from pandas import DataFrame\n",
        "import astropy\n",
        "from google.colab import files\n",
        "\n",
        "import matplotlib\n",
        "\"\"\"\n",
        "!wget https://github.com/Phonbopit/sarabun-webfont/raw/master/fonts/thsarabunnew-webfont.ttf -P /usr/local/lib/python3.6/dist-packages/matplotlib/mpl-data/fonts/ttf\n",
        "\n",
        "matplotlib.font_manager._rebuild()\n",
        "matplotlib.rc('font', family='TH Sarabun New')\n",
        "\n",
        "\"\"\"\n",
        "%matplotlib inline\n"
      ],
      "execution_count": 0,
      "outputs": []
    },
    {
      "cell_type": "markdown",
      "metadata": {
        "id": "Nf52quLHCD60",
        "colab_type": "text"
      },
      "source": [
        "Assignment done by Enrique Segura"
      ]
    },
    {
      "cell_type": "markdown",
      "metadata": {
        "id": "_bf-ddndWl9k",
        "colab_type": "text"
      },
      "source": [
        "1. Write a code that takes as input an employee's hourly rate (say \\$20 per hour) and the number of hours worked per month (around 200). \n",
        "The program should calculate the gross and net pay. For the net pay, assume a federal tax of 15%, state tax of 5%, social security of 5%, and medical insurance of $200 per month.\n"
      ]
    },
    {
      "cell_type": "code",
      "metadata": {
        "id": "2ICF5owuUdvW",
        "colab_type": "code",
        "outputId": "3e6a7107-8c31-43b6-a9ef-d269464b3426",
        "colab": {
          "base_uri": "https://localhost:8080/",
          "height": 68
        }
      },
      "source": [
        "employee_hr_rate = float(input('Please enter your hourly rate: '))\n",
        "num_hrs_worked_per_month =  float(input('Please enter your total number of hours worked: '))\n",
        "#print(employee_hr_rate, num_hrs_worked_per_month)\n",
        "gross_pay = employee_hr_rate * num_hrs_worked_per_month\n",
        "\n",
        "print('Gross Pay is: ', gross_pay, ' dollars.')"
      ],
      "execution_count": 0,
      "outputs": [
        {
          "output_type": "stream",
          "text": [
            "Please enter your hourly rate: 20\n",
            "Please enter your total number of hours worked: 200\n",
            "Gross Pay is:  4000.0  dollars.\n"
          ],
          "name": "stdout"
        }
      ]
    },
    {
      "cell_type": "code",
      "metadata": {
        "id": "MXNZT67pUmg9",
        "colab_type": "code",
        "outputId": "a143ed27-ced1-49ab-adfa-ce93b7687092",
        "colab": {
          "base_uri": "https://localhost:8080/",
          "height": 34
        }
      },
      "source": [
        "medical_insurance_monthly_cost = 200\n",
        "\n",
        "fed_tax_fraction = .15 * gross_pay\n",
        "\n",
        "state_tax_fraction = .05 * gross_pay\n",
        "\n",
        "social_security_fraction = .05 * gross_pay \n",
        "\n",
        "print('Deductions: ', 'Federal Taxes: ', fed_tax_fraction, ' dollars ,', 'State Taxes: ', state_tax_fraction, ' dollars, ', 'Social Security: ', social_security_fraction, ' dollars, ', 'Medical Insurance: ', medical_insurance_monthly_cost, 'dollars.')\n"
      ],
      "execution_count": 0,
      "outputs": [
        {
          "output_type": "stream",
          "text": [
            "Deductions:  Federal Taxes:  600.0  dollars , State Taxes:  200.0  dollars,  Social Security:  200.0  dollars,  Medical Insurance:  200 dollars.\n"
          ],
          "name": "stdout"
        }
      ]
    },
    {
      "cell_type": "code",
      "metadata": {
        "id": "tOwr5-wEWVYK",
        "colab_type": "code",
        "outputId": "83956fad-ab73-4b23-9a3b-6d6f65cf1570",
        "colab": {
          "base_uri": "https://localhost:8080/",
          "height": 34
        }
      },
      "source": [
        "\n",
        "net_pay = gross_pay - fed_tax_fraction - state_tax_fraction - social_security_fraction - medical_insurance_monthly_cost\n",
        "print('Net Pay is: ', net_pay, ' dollars.')\n"
      ],
      "execution_count": 0,
      "outputs": [
        {
          "output_type": "stream",
          "text": [
            "Net Pay is:  2800.0  dollars.\n"
          ],
          "name": "stdout"
        }
      ]
    },
    {
      "cell_type": "markdown",
      "metadata": {
        "id": "70SQkQJPXvRZ",
        "colab_type": "text"
      },
      "source": [
        "2. A ball is shot upward from the ground with an initial velocity v0 (entered by the user as an input). Write a program that calculates the time when the ball is at some altitude h (again entered by the user as an input). Test different values of h, ones that produce two values for the time, and ones that produce no real value for the time.\n",
        "\n",
        "Formula Used:\n",
        "\n",
        "$h = v_{i,y}t - \\frac{1}{2}gt^2$\n",
        "\n",
        "$t^2 - \\frac{2v_{i,y} t}{g} + \\frac{2h}{g} = 0$ \n",
        "\n",
        "Yielding: \n",
        "$\\Delta =  (\\frac{2v_{i,y}}{g})^2 - 4 (\\frac{2h}{g})$\n",
        "\n",
        "$t_{1,2} =  \\frac{1}{2}(\\frac{2v_{i,y}}{g} \\pm \\sqrt{\\Delta}) $\n",
        "\n",
        "Also, remember time of flight and max height:\n",
        "\n",
        "$t = \\frac{2v_{i,y}}{g}$\n",
        "\n",
        "$h_{max} = \\frac{v_0^2 \\sin^2(\\theta)}{2g} $\n",
        "\n",
        "So, make sure your inputs are physically significant"
      ]
    },
    {
      "cell_type": "code",
      "metadata": {
        "id": "D8gcuby7BBls",
        "colab_type": "code",
        "colab": {}
      },
      "source": [
        "import scipy.constants \n",
        "g = scipy.constants.g"
      ],
      "execution_count": 0,
      "outputs": []
    },
    {
      "cell_type": "code",
      "metadata": {
        "id": "EVOrOZloWX_i",
        "colab_type": "code",
        "outputId": "72f8199d-6b83-472d-ca6a-eb4e704cea44",
        "colab": {
          "base_uri": "https://localhost:8080/",
          "height": 85
        }
      },
      "source": [
        "\n",
        "initial_velocity = float(input('Please enter measured initial velocity of projectile: '))\n",
        "\n",
        "max_height = np.divide(np.square(initial_velocity), 2*g)\n",
        "time_flight = np.divide(2*initial_velocity, g)\n",
        "\n",
        "requested_h = float(input('Please enter desired altitude: '))\n",
        "\n",
        "if max_height < requested_h:\n",
        "  print('Please try again with a number below the max height of this trajectory, ', max_height, ' mts!')\n",
        "  print('time of flight: ', time_flight)\n",
        "  print('max height: ', max_height )\n",
        "else:\n",
        "  #Let's get the roots of the quadratic equation we have laid out above\n",
        "\n",
        "  coefs_time_quad = [1, np.divide(-2*initial_velocity, g), np.divide(2*requested_h,g)]\n",
        "\n",
        "  current_quadratic = np.poly1d(coefs_time_quad)\n",
        "\n",
        "  #solve roots\n",
        "\n",
        "  roots_quad = current_quadratic.r\n",
        "  print('Time at Request H: ')\n",
        "  print(roots_quad)\n"
      ],
      "execution_count": 0,
      "outputs": [
        {
          "output_type": "stream",
          "text": [
            "Please enter measured initial velocity of projectile: 275\n",
            "Please enter desired altitude: 1500\n",
            "Time at Request H: \n",
            "[49.96136292  6.1230288 ]\n"
          ],
          "name": "stdout"
        }
      ]
    },
    {
      "cell_type": "code",
      "metadata": {
        "id": "DXNTJi147l7j",
        "colab_type": "code",
        "outputId": "f110c78a-b98d-4987-823d-00f2512609d3",
        "colab": {
          "base_uri": "https://localhost:8080/",
          "height": 369
        }
      },
      "source": [
        "#test of sanity using standard physics \n",
        "\n",
        "\n",
        "t = np.arange(0, time_flight, 0.01)\n",
        "x = initial_velocity*t\n",
        "h = initial_velocity*t - .5*g*np.square(t)\n",
        "\n",
        "plt.figure(figsize=(10,5))\n",
        "\n",
        "plt.plot(t, h, color='orange', linestyle='-.')\n",
        "\n",
        "plt.xlabel('Time (s)', fontsize=15)\n",
        "plt.ylabel('Altitude (m)', fontsize=15)\n",
        "plt.title('Theoretical Trajectory', fontsize=25)\n",
        "\n",
        "plt.tick_params(axis='both',labelsize=15)\n",
        "plt.tight_layout()\n",
        "\n",
        "plt.subplots_adjust(top=.9)\n",
        "\n",
        "plt.grid()"
      ],
      "execution_count": 0,
      "outputs": [
        {
          "output_type": "display_data",
          "data": {
            "image/png": "[encoded data removed]",
            "text/plain": [
              "<Figure size 720x360 with 1 Axes>"
            ]
          },
          "metadata": {
            "tags": []
          }
        }
      ]
    },
    {
      "cell_type": "markdown",
      "metadata": {
        "id": "CfTIjT-HZKjp",
        "colab_type": "text"
      },
      "source": [
        "3. An RC DC-circuit has its switch closed at time t = 0. Prompt the user to enter the values of the battery voltage V in volts, the resistance R in Ohms, and the capacitance C in microfarads. Convert the capacitance to C in Farads. Using matplotlib, make a plot of the current versus time for times up to 10RC. The current is given by I(t) = (V/R) exp(-t/RC)."
      ]
    },
    {
      "cell_type": "code",
      "metadata": {
        "id": "k7UQ2AIUZMSf",
        "colab_type": "code",
        "outputId": "f4b022f7-1e5a-4519-8ab7-b4da968e6853",
        "colab": {
          "base_uri": "https://localhost:8080/",
          "height": 68
        }
      },
      "source": [
        "input_V = float(input('Please enter battery voltage in volts: '))\n",
        "input_R = float(input('Please enter resistance in Ohms: '))\n",
        "input_C = float(input('Please enter capacitance in microfarads: '))\n",
        "#convert this to farads so units don't become a problem, so adjust by 10^-6 \n",
        "input_C = input_C * 10**-6 \n",
        "\n",
        "time_limit = 10*input_R*input_C"
      ],
      "execution_count": 0,
      "outputs": [
        {
          "output_type": "stream",
          "text": [
            "Please enter battery voltage in volts: 1000\n",
            "Please enter resistance in Ohms: 100\n",
            "Please enter capacitance in microfarads: 10\n"
          ],
          "name": "stdout"
        }
      ]
    },
    {
      "cell_type": "code",
      "metadata": {
        "id": "KzFfnvR_ZZDX",
        "colab_type": "code",
        "colab": {}
      },
      "source": [
        "time_arr = np.linspace(0, time_limit,1000)\n",
        "\n",
        "tau = np.multiply(input_R, input_C)\n",
        "current = np.multiply(np.divide(input_V, input_R), np.exp(np.divide(-time_arr, tau)))"
      ],
      "execution_count": 0,
      "outputs": []
    },
    {
      "cell_type": "code",
      "metadata": {
        "id": "1m73RzThaPHQ",
        "colab_type": "code",
        "outputId": "4ea0981d-b0a3-406d-9346-cb0e2eb7666e",
        "colab": {
          "base_uri": "https://localhost:8080/",
          "height": 390
        }
      },
      "source": [
        "f1 = plt.figure(figsize=(15,5))\n",
        "\n",
        "plt.plot(time_arr, current, color='dodgerblue', linestyle='-')\n",
        "#plt.fill_between(time_arr, curr_integral, 0.001, where=(curr_integral > .001), facecolor='g', alpha=0.6)\n",
        "plt.ylabel(r'$I(t)$ (Amps)', fontsize=15)\n",
        "plt.xlabel(r'$T (s) $', fontsize=15)\n",
        "\n",
        "plt.legend(loc='best')\n",
        "\n",
        "\n",
        "plt.suptitle('Evolution of Current on RC-Circuit', fontsize=20)\n",
        "\n",
        "plt.tick_params(axis='both',labelsize=15)\n",
        "plt.tight_layout()\n",
        "\n",
        "plt.subplots_adjust(top=.9)"
      ],
      "execution_count": 0,
      "outputs": [
        {
          "output_type": "stream",
          "text": [
            "No handles with labels found to put in legend.\n"
          ],
          "name": "stderr"
        },
        {
          "output_type": "display_data",
          "data": {
            "image/png": "[encoded data removed]",
            "text/plain": [
              "<Figure size 1080x360 with 1 Axes>"
            ]
          },
          "metadata": {
            "tags": []
          }
        }
      ]
    },
    {
      "cell_type": "markdown",
      "metadata": {
        "id": "q0XS1SBkdBzp",
        "colab_type": "text"
      },
      "source": [
        "4. Construct a list that contains the integers starting at 1 all the way to 100 in steps of 9. So the list must have the numbers 1, 10, 19, 28, ... 100.\n",
        "5. Using a while loop, print out the numbers. \n",
        "6. Repeat using a for loop."
      ]
    },
    {
      "cell_type": "code",
      "metadata": {
        "id": "trTUdDLbatE6",
        "colab_type": "code",
        "outputId": "c8cfb145-692b-4182-d8a3-4d15eb008b45",
        "colab": {
          "base_uri": "https://localhost:8080/",
          "height": 221
        }
      },
      "source": [
        "#First, the for-loop because it is easier with python\n",
        "num_l = []\n",
        "for i in range(1, 101, 9):\n",
        "  print(i)\n",
        "  num_l.append(i)"
      ],
      "execution_count": 0,
      "outputs": [
        {
          "output_type": "stream",
          "text": [
            "1\n",
            "10\n",
            "19\n",
            "28\n",
            "37\n",
            "46\n",
            "55\n",
            "64\n",
            "73\n",
            "82\n",
            "91\n",
            "100\n"
          ],
          "name": "stdout"
        }
      ]
    },
    {
      "cell_type": "code",
      "metadata": {
        "id": "4HXyfkiJfIRz",
        "colab_type": "code",
        "outputId": "c821be33-a6f7-4f66-829d-142fc97e2bf0",
        "colab": {
          "base_uri": "https://localhost:8080/",
          "height": 34
        }
      },
      "source": [
        "print('list of numbers via for-loop: ', num_l)"
      ],
      "execution_count": 0,
      "outputs": [
        {
          "output_type": "stream",
          "text": [
            "list of numbers via for-loop:  [1, 10, 19, 28, 37, 46, 55, 64, 73, 82, 91, 100]\n"
          ],
          "name": "stdout"
        }
      ]
    },
    {
      "cell_type": "code",
      "metadata": {
        "id": "vqkK4KeMdGDY",
        "colab_type": "code",
        "outputId": "9a3fbb05-0ece-4be4-de7b-45ab3440ef1a",
        "colab": {
          "base_uri": "https://localhost:8080/",
          "height": 221
        }
      },
      "source": [
        "#Then the while-loop because it's somewhat cumbersome\n",
        "wl_num_list = []\n",
        "max_number = 100\n",
        "count = 1\n",
        "while count < max_number+1:\n",
        "  print(count)\n",
        "  wl_num_list.append(count)\n",
        "  count += 9"
      ],
      "execution_count": 0,
      "outputs": [
        {
          "output_type": "stream",
          "text": [
            "1\n",
            "10\n",
            "19\n",
            "28\n",
            "37\n",
            "46\n",
            "55\n",
            "64\n",
            "73\n",
            "82\n",
            "91\n",
            "100\n"
          ],
          "name": "stdout"
        }
      ]
    },
    {
      "cell_type": "code",
      "metadata": {
        "id": "RQpaV6i8fWyp",
        "colab_type": "code",
        "outputId": "e156a64a-eff7-4ae6-b029-2fdc2e8b13c6",
        "colab": {
          "base_uri": "https://localhost:8080/",
          "height": 34
        }
      },
      "source": [
        "print('list of numbers via while-loop: ', wl_num_list)"
      ],
      "execution_count": 0,
      "outputs": [
        {
          "output_type": "stream",
          "text": [
            "list of numbers via while-loop:  [1, 10, 19, 28, 37, 46, 55, 64, 73, 82, 91, 100]\n"
          ],
          "name": "stdout"
        }
      ]
    },
    {
      "cell_type": "markdown",
      "metadata": {
        "id": "gg9bNuqSdoki",
        "colab_type": "text"
      },
      "source": [
        "5. The integral of f(x) from a to b is the sum of f(x_i)dx. Calculate the integral of f(x) = 3x^2 from 0 to 1. Subdivide the interval from 0 to 1 into N equal divisions. Take N = 10, 20, 30, 40, 50, ...., 1000. Using matplotlib, make a plot of the error (the exact answer is 1) versus N."
      ]
    },
    {
      "cell_type": "code",
      "metadata": {
        "id": "q4A_XLradZWX",
        "colab_type": "code",
        "colab": {}
      },
      "source": [
        "def f(x):\n",
        "  return 3*np.square(x)"
      ],
      "execution_count": 0,
      "outputs": []
    },
    {
      "cell_type": "code",
      "metadata": {
        "id": "u-znTU0Bk7Zl",
        "colab_type": "code",
        "colab": {}
      },
      "source": [
        "def int_f(arr):\n",
        "  return np.sum(f(arr))"
      ],
      "execution_count": 0,
      "outputs": []
    },
    {
      "cell_type": "code",
      "metadata": {
        "id": "41Df7luYdyt4",
        "colab_type": "code",
        "colab": {}
      },
      "source": [
        "#this is the array of step sizes you need to calculate this integral using I guess a form of trapezoidal rule or someethihg\n",
        "N_arr = np.arange(10,1000+10,10)\n",
        "#N_arr"
      ],
      "execution_count": 0,
      "outputs": []
    },
    {
      "cell_type": "code",
      "metadata": {
        "id": "ni2yGFzBlHRm",
        "colab_type": "code",
        "colab": {}
      },
      "source": [
        "int_result_arr =[]\n",
        "for i in N_arr:\n",
        "  curr_integral = int_f(np.linspace(0,1,i))\n",
        "  #print(i, curr_integral/ i)\n",
        "  int_result_arr.append(1 - np.divide(curr_integral, i))"
      ],
      "execution_count": 0,
      "outputs": []
    },
    {
      "cell_type": "code",
      "metadata": {
        "id": "q4YKHBrvfidl",
        "colab_type": "code",
        "outputId": "19ce7a68-e656-4b72-8e5f-16109b1ddf97",
        "colab": {
          "base_uri": "https://localhost:8080/",
          "height": 369
        }
      },
      "source": [
        "plt.figure(figsize=(10,5))\n",
        "\n",
        "plt.plot(N_arr, np.abs(int_result_arr), linestyle='-.', color='orange',marker='o',markerfacecolor='none', label='Num. Integral')\n",
        "\n",
        "plt.legend(loc='best', fontsize=15)\n",
        "plt.tick_params(axis='both',labelsize=15)\n",
        "\n",
        "plt.xlabel(r'Step Size', fontsize=20)\n",
        "plt.ylabel('Error', fontsize=20)\n",
        "\n",
        "plt.title('Numerical Integration Error vs Step Size',fontsize=25)\n",
        "\n",
        "plt.tight_layout()\n"
      ],
      "execution_count": 0,
      "outputs": [
        {
          "output_type": "display_data",
          "data": {
            "image/png": "[encoded data removed]",
            "text/plain": [
              "<Figure size 720x360 with 1 Axes>"
            ]
          },
          "metadata": {
            "tags": []
          }
        }
      ]
    },
    {
      "cell_type": "markdown",
      "metadata": {
        "id": "7XMKPQf7iU1c",
        "colab_type": "text"
      },
      "source": [
        "6. Write a code that prints out the current time in hrs:mins:secs. You need to import the time module (import time). The function time.time() yields the time in seconds since Jan 1, 12 am, 1970; i.e., it yields what is known as the epoch time (GMT). Convert to Pacific Standard time."
      ]
    },
    {
      "cell_type": "code",
      "metadata": {
        "id": "wr-wSpWLh9WY",
        "colab_type": "code",
        "colab": {}
      },
      "source": [
        "import time\n",
        "import os\n",
        "from time import gmtime, strftime\n",
        "from datetime import datetime\n",
        "from pytz import timezone\n",
        "import pytz"
      ],
      "execution_count": 0,
      "outputs": []
    },
    {
      "cell_type": "code",
      "metadata": {
        "id": "DH5049Si38fc",
        "colab_type": "code",
        "outputId": "ff77a917-80b6-4257-d908-08054e0fa2eb",
        "colab": {
          "base_uri": "https://localhost:8080/",
          "height": 34
        }
      },
      "source": [
        "date = datetime.now(tz=pytz.utc)\n",
        "date_format='%H:%M:%S %Z'\n",
        "\n",
        "date = date.astimezone(timezone('US/Pacific'))\n",
        "\n",
        "print('Local date & time is  :', date.strftime(date_format))"
      ],
      "execution_count": 0,
      "outputs": [
        {
          "output_type": "stream",
          "text": [
            "Local date & time is  : 09:18:18 PST\n"
          ],
          "name": "stdout"
        }
      ]
    }
  ]
}